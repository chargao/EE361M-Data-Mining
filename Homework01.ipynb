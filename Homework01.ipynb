{
 "cells": [
  {
   "cell_type": "markdown",
   "metadata": {},
   "source": [
    "# Homework 1\n",
    "### Charlie Gao, James Morris, Nhan Do\n",
    "\n",
    "1. **Data Mining Applications**<br>\n",
    "    Suppose you are working as a data mining consultant for an Internet Search Engine Company. Briefly \n",
    "    discuss how data mining can help the company by giving one example each of an application for which\n",
    "    the techniques for (i) regression (ii) classification, (iii) anomaly detection can be used.\n",
    "    <br>\n",
    "    > *We discussed these topics, and came up with responses. They are not listed here.*\n",
    "    \n",
    "2. **Maximum Likelihood Estimation**<br>\n",
    "    Wishing to estimate the average time it takes to load Canvas on her tablet, Alice does the following\n",
    "    study: She records the time x<sub>i</sub> that Canvas takes to load (in milliseconds), e i = 1, ..., N, at N randomly\n",
    "    selected time-points during one day. Suppose that the time it takes to load the webpage can be well\n",
    "    represented by λ<sup>e−λx</sup> with (unknown) parameter, λ. Derive the maximum likelihood estimate for λ\n",
    "    from first principles. (i.e. do not just write down the answer)."
   ]
  },
  {
   "cell_type": "code",
   "execution_count": 21,
   "metadata": {
    "collapsed": true
   },
   "outputs": [],
   "source": [
    "# Insert code here\n",
    "#imports\n",
    "%matplotlib inline  \n",
    "import numpy as np; np.random.seed(50)\n",
    "import seaborn as sns; sns.set(color_codes=True)\n",
    "import matplotlib as plt;"
   ]
  },
  {
   "cell_type": "markdown",
   "metadata": {},
   "source": [
    "3. **Bivariate Visualization and Mathematical Form** (actually \\#3 but Markdown is not perfect)<br>\n",
    "    Suppose X and Y are two random variables whose joint distribution is Normal (Gaussian), centered at(0,0)\n",
    "    and with correlation ρ. (See “Bivariate Case” in the Wikipedia entry for “Multivariate Normal \n",
    "    Distribution” for the equation, or use just use the vector form given in the class notes, with \n",
    "    σ<sub>12</sub> = σ<sub>21</sub> = ρσ<sub>x</sub>σ<sub>y</sub>). Consider 2 cases:\n",
    "    \n",
    "    i)  σ<sup>2</sup><sub>x</sub> = 4; σ<sup>2</sup><sub>y</sub> = 9; ρ = 0\n",
    "    <br>\n",
    "    ii) σ<sup>2</sup><sub>x</sub> = 4; σ<sup>2</sup><sub>y</sub> = 9; ρ = 0.5\n",
    "    \n",
    "    a) Obtain contour plots for each of the two distributions using Python http://stanford.edu/~mwaskom/software/seaborn/generated/seaborn.kdeplot.html .\n",
    "    \n",
    "    b) View 3-D plots for the two distributions from at least two different viewing perspectives each (http://matplotlib.org/examples/mplot3d/rotate_axes3d_demo.html).\n",
    "    \n",
    "    c) Consider the bivariate Normal Distribution given in part (ii). Reading the “Bivariate Case” under\n",
    "    \"Conditional distributions\" in the Wikipedia entry will help you answer this problem; alternatively\n",
    "    you can consult any undergraduate text on probability/statistics. What is the mathematical form\n",
    "    of the conditional distribution that is obtained when (a) x is set to 1, and (b) when y is set to\n",
    "    1? (no need to actually derive the formulae from first principles; rather just obtain the result by\n",
    "    substition in the formula for a bivariate Gaussian."
   ]
  },
  {
   "cell_type": "code",
   "execution_count": 22,
   "metadata": {
    "collapsed": false
   },
   "outputs": [
    {
     "ename": "AttributeError",
     "evalue": "'module' object has no attribute 'subplots'",
     "output_type": "error",
     "traceback": [
      "\u001b[1;31m---------------------------------------------------------------------------\u001b[0m",
      "\u001b[1;31mAttributeError\u001b[0m                            Traceback (most recent call last)",
      "\u001b[1;32m<ipython-input-22-7ca9cb792477>\u001b[0m in \u001b[0;36m<module>\u001b[1;34m()\u001b[0m\n\u001b[0;32m      1\u001b[0m \u001b[1;31m#setup\u001b[0m\u001b[1;33m\u001b[0m\u001b[1;33m\u001b[0m\u001b[0m\n\u001b[1;32m----> 2\u001b[1;33m \u001b[0mfig\u001b[0m\u001b[1;33m,\u001b[0m\u001b[1;33m(\u001b[0m\u001b[0max1\u001b[0m\u001b[1;33m,\u001b[0m \u001b[0max2\u001b[0m\u001b[1;33m)\u001b[0m \u001b[1;33m=\u001b[0m \u001b[0mplt\u001b[0m\u001b[1;33m.\u001b[0m\u001b[0msubplots\u001b[0m\u001b[1;33m(\u001b[0m\u001b[1;36m2\u001b[0m\u001b[1;33m)\u001b[0m\u001b[1;33m\u001b[0m\u001b[0m\n\u001b[0m\u001b[0;32m      3\u001b[0m \u001b[1;33m\u001b[0m\u001b[0m\n\u001b[0;32m      4\u001b[0m \u001b[1;31m# part i\u001b[0m\u001b[1;33m\u001b[0m\u001b[1;33m\u001b[0m\u001b[0m\n\u001b[0;32m      5\u001b[0m \u001b[0mmean\u001b[0m\u001b[1;33m,\u001b[0m \u001b[0mcov\u001b[0m \u001b[1;33m=\u001b[0m \u001b[1;33m[\u001b[0m\u001b[1;36m0\u001b[0m\u001b[1;33m,\u001b[0m \u001b[1;36m2\u001b[0m\u001b[1;33m]\u001b[0m\u001b[1;33m,\u001b[0m \u001b[1;33m[\u001b[0m\u001b[1;33m(\u001b[0m\u001b[1;36m1\u001b[0m\u001b[1;33m,\u001b[0m \u001b[1;36m.5\u001b[0m\u001b[1;33m)\u001b[0m\u001b[1;33m,\u001b[0m \u001b[1;33m(\u001b[0m\u001b[1;36m.5\u001b[0m\u001b[1;33m,\u001b[0m \u001b[1;36m1\u001b[0m\u001b[1;33m)\u001b[0m\u001b[1;33m]\u001b[0m\u001b[1;33m\u001b[0m\u001b[0m\n",
      "\u001b[1;31mAttributeError\u001b[0m: 'module' object has no attribute 'subplots'"
     ]
    }
   ],
   "source": [
    "#setup\n",
    "fig,(ax1, ax2) = plt.subplots(2)\n",
    "\n",
    "# part i\n",
    "mean, cov = [0, 2], [(1, .5), (.5, 1)]\n",
    "x, y = np.random.multivariate_normal(mean, cov, size=50).T\n",
    "ax1 = sns.kdeplot(x, y, shade=True,ax=ax1)\n",
    "\n",
    "# part ii\n",
    "mean, cov = [0, 2], [(1, .5), (.5, 1)]\n",
    "x, y = np.random.multivariate_normal(mean, cov, size=50).T\n",
    "ax2= sns.kdeplot(x, y, shade=True,ax=ax2)"
   ]
  },
  {
   "cell_type": "markdown",
   "metadata": {},
   "source": [
    "4. **Exploratory Data Analysis using Python** (again, actually \\#4 but Markdown isn't prefect)<br>\n",
    "    The student data set (found on Canvas) records properties of 657 students. For a description of the\n",
    "    data, see http://cran.r-project.org/web/packages/LearnBayes/LearnBayes.pdf. Python packages that\n",
    "    will be useful: `Pandas`, `Matplotlib`, and `Seaborn`.\n",
    "    \n",
    "    (a) Construct a histogram of the variable `Shoes`. (Use 20 bins)\n",
    "    \n",
    "    (b) Use data visualization to check if the variable `Dvds` (approximately) follows a log-normal distribution.\n",
    "    \n",
    "    (c) Summarize the variable `Haircut` using the Panda’s describe command. Also, report the 2.5th and 97.5th percentiles.\n",
    "    \n",
    "    (d) Construct a barplot of the individual values of `Drink` that were observed. Also, highlight the \n",
    "    distribution of the variable `Drink` between the two genders on the same barplot.\n",
    "    \n",
    "    (e) Construct a scatter plot of the variables `ToSleep` and `WakeUp`. Do you observe a positive correlation\n",
    "    between the two variables?\n",
    "    \n",
    "    Note: Omit missing values if any are present."
   ]
  },
  {
   "cell_type": "code",
   "execution_count": 2,
   "metadata": {
    "collapsed": false
   },
   "outputs": [
    {
     "name": "stdout",
     "output_type": "stream",
     "text": [
      "ok\n"
     ]
    }
   ],
   "source": [
    "#Insert code here\n",
    "print \"ok\""
   ]
  },
  {
   "cell_type": "markdown",
   "metadata": {},
   "source": [
    "5. **Regression with scikit-learn** (actually \\#5)<br>\n",
    "    For this problem, we will be using the scikit-learn package in Python to predict housing prices using \n",
    "    regression. The housing data can be found here: https://archive.ics.uci.edu/ml/machine-learning-databases/housing/.\n",
    "    \n",
    "    (a) Fit a simple linear regression of medv on lstat. What is the coefficient on lstat and what is its interpretation?\n",
    "    \n",
    "    (b) Plot medv and and lstat in a scatter plot with the regression line. Comment on the fit.\n",
    "\n",
    "    (c) Split the data randomly into a training and test set (1/3 for test). Train a multiple linear regression \n",
    "    on all the variables using the training data and evaluate the trained model on the test data using\n",
    "    root mean squared error. Discuss the results.\n",
    "\n",
    "    (d) Let us try to fit an MLR to this dataset, with MEDV as the dependent variable. MEDV has \n",
    "    a somewhat longish tail and is not so Gaussian-like, so we will take a log transform, and then \n",
    "    predict LMDEV instead. (You should convince yourself that this is a better idea by looking at the \n",
    "    histograms and quantile plots to assess normality; however no need to submit such plots). Keep the \n",
    "    first 350 records as a training set (call it Bostrain) which you will use to fit the model; the \n",
    "    remaining 156 will be used as a test set (Bostest). <br>\n",
    "    Use only the following variables in your model: LMEDV ∼ LST AT + RM + CRIM + ZN + CHAS.<br>\n",
    "      i. Report the MSE obtained on Bostrain. How much does this increase when you score your model on Bostest?<br>\n",
    "      ii. Report the coefficients obtained by learning the regression model.<br>\n",
    "      iii. Do you think your MLR model is reasonable for this problem? You may look at the distribution \n",
    "      of residuals to provide an informed answer."
   ]
  },
  {
   "cell_type": "code",
   "execution_count": 5,
   "metadata": {
    "collapsed": true
   },
   "outputs": [],
   "source": [
    "#Insert Code here"
   ]
  }
 ],
 "metadata": {
  "kernelspec": {
   "display_name": "Python 2",
   "language": "python",
   "name": "python2"
  },
  "language_info": {
   "codemirror_mode": {
    "name": "ipython",
    "version": 2
   },
   "file_extension": ".py",
   "mimetype": "text/x-python",
   "name": "python",
   "nbconvert_exporter": "python",
   "pygments_lexer": "ipython2",
   "version": "2.7.11"
  }
 },
 "nbformat": 4,
 "nbformat_minor": 0
}
