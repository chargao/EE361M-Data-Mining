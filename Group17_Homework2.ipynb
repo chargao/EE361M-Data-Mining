{
 "cells": [
  {
   "cell_type": "markdown",
   "metadata": {},
   "source": [
    "## EE-361M Introduction to Data Mining\n",
    "## Assignment #2\n",
    "## Due: Thursday, Feb 18, 2016 by 2pm; Total points: 50\n",
    "\n",
    "\n",
    "Your homework should be written in a **Jupyter notebook** (if this isn't possible, let me know). Please use this naming format for your notebook you submit: **Group(Group Num)_HW(HW Number).ipynb**. For example, Group1_HW1.ipynb. Homeworks are due at the beginning of class on the due date and should be submitted through Canvas in your **groups of 3 from the first homework**. If groups need to be adjusted please contact the TA."
   ]
  },
  {
   "cell_type": "code",
   "execution_count": 119,
   "metadata": {
    "collapsed": true
   },
   "outputs": [],
   "source": [
    "#Imports\n",
    "import requests\n",
    "from bs4 import BeautifulSoup\n",
    "from collections import defaultdict\n",
    "from collections import Counter\n",
    "import pandas as pd\n",
    "import numpy as np\n",
    "import matplotlib.pyplot as plt\n",
    "import operator\n",
    "from __future__ import division\n",
    "from sklearn.feature_extraction.text import CountVectorizer\n",
    "\n",
    "%matplotlib inline"
   ]
  },
  {
   "cell_type": "markdown",
   "metadata": {
    "collapsed": true
   },
   "source": [
    "## Question 1: Sampling\n",
    "### 10 points\n",
    "\n",
    "1. CBS has come up with an extreme TV show, and each of its viewers either likes or hates it. (no middle ground here; we are in a 'black and white age'). CBS wants to estimate what fraction $p$ of its audience like the show by 'randomly' calling $n$ viewers and tallying their responses so as to estimate the true value of $p$ to a fractional  accuracy of within $\\pm \\epsilon$%, with a confidence of $(1-\\alpha) \\times 100$%. For $\\alpha =  0.1$, $\\epsilon = 0.02$ (i.e. your answer will be $\\hat{p} \\pm 0.02$), what is the minimum value of $n$ needed if (i) true value $p = 0.5$ and (ii) $p = 0.95$? \n",
    "%(First try to do this yourself knowing that you have a binomial distribution, which can be approximated by a normal distribution. If you cannot, consult an undergrad stats book.)\n",
    "2. Suppose for a certain value  of $p$ and choice of $\\epsilon$, you calculate that you will need (at least) 1000 samples for $\\alpha = 0.1$. You now decide to obtain  a more accurate answer by either (i) reducing $\\alpha$ to 0.05, keeping the same $\\epsilon$ or by (ii) reducing $\\epsilon$ by a factor of 2 from the original value, but maintaining  $\\alpha = 0.1$.  In each case how many samples would you need now?"
   ]
  },
  {
   "cell_type": "markdown",
   "metadata": {},
   "source": [
    "## Question 2: Republican Presidental Debate\n",
    "### 10 points\n",
    "\n",
    "In this question we will be analyzing text data from one of the recent presidental debates. I have included code below to grab the data for you from the New York Times.\n",
    "\n",
    "1. Create a set of the frequency of utterance of  all the distinct words spoken by candidates, and then use it to create a histogram (with 30 bins) of word counts. Thus a bin is a range of count values and the corresponding \"y\" value is the number of words whose count falls in this range. What is interesting about this distribution? What are the 10 most common words?\n",
    "2. Remove the 100 most common words from vocabulary. Meaning that if you ever see this word, get rid of it. Now create a new python dictionary for each candidate that is a single list of all the words spoken by this candidate (ignoring these most common words). What are the 10 most common words for Trump, Rubio, and Cruz? How do their words differ?\n",
    "3. Using our dictionary from number 2, how many words did each speaker speak? Who spoke the most? Who is the outlier?\n",
    "4. Count the percentage of time each person uses the words (I, I'm, me, mine). When doing this convert all words to lower case. Create a bar plot of this percentage for each candidate with bars from largest to smallest. Use dictionary that has all words (doesn't exclude most common). What does the plot show?\n",
    "\n",
    "Hints:\n",
    "1. Look at python Counter.\n",
    "2. Just split text on a space. This isn't perfect, but will be fine."
   ]
  },
  {
   "cell_type": "code",
   "execution_count": 120,
   "metadata": {
    "collapsed": false
   },
   "outputs": [],
   "source": [
    "url = 'http://www.nytimes.com/2015/11/11/us/politics/transcript-republican-presidential-debate.html'\n",
    "# requests gets the source code from the url and extracts it as text\n",
    "html = requests.get(url).text\n",
    "# beautifulsoup is a library that takes in text source code and returns a structured format of that\n",
    "# source code that you can more easily search and parse.\n",
    "soup = BeautifulSoup(html, 'html5lib')\n",
    "# get all the 'p' tags from the source with class = 'story-body-text'\n",
    "# this was determined by looking at the source code\n",
    "# the first and last paragraphs are intro and ending\n",
    "paragraphs = soup('p', {'class': 'story-body-text'})[1:-1]\n",
    "candidates = ['BUSH', 'TRUMP', 'RUBIO', 'CARSON', 'FIORINA', 'KASICH', 'CRUZ', 'PAUL']\n",
    "def text_to_dict(paragraph_array):\n",
    "    '''takes an array of text paragraphs from debate and returns dict \n",
    "    where key is person and value is list of text spoken by that candidate'''\n",
    "    # dict is like a hash map. defaultdict lets you specify what types of values will be in your hash map\n",
    "    d = defaultdict(list)\n",
    "    # just a default speaker that won't end up in our returned data\n",
    "    # will get replaced when an actual speaker is found\n",
    "    speaker = \"<START>\"\n",
    "    for paragraph in paragraph_array:\n",
    "        words = paragraph.text.split(' ')\n",
    "        for word in words: #this doesn't seem to work\n",
    "            if word.endswith(\".\") or word.endswith(\",\"):\n",
    "                word=word[:-1]\n",
    "        first_word = words[0] # only new speaker when have SPEAKER: format\n",
    "        if first_word[-1] == \":\":\n",
    "            speaker = first_word[:-1]\n",
    "        \n",
    "        if speaker in candidates: # only keep candidates text\n",
    "            d[speaker].append(words[1:])\n",
    "    return d\n",
    "\n",
    "\n",
    "speaker_dict = text_to_dict(paragraphs)"
   ]
  },
  {
   "cell_type": "code",
   "execution_count": 121,
   "metadata": {
    "collapsed": false
   },
   "outputs": [
    {
     "name": "stdout",
     "output_type": "stream",
     "text": [
      "10 Most common words are:\n",
      "the:\t775\n",
      "to:\t508\n",
      "a:\t365\n",
      "of:\t360\n",
      "and:\t352\n",
      "we:\t267\n",
      "that:\t261\n",
      "is:\t258\n",
      "in:\t254\n",
      "I:\t232\n",
      "\n",
      "The interesting thing about the data is that 20 or so words that occur with high frequency, and the vast\n",
      "majority of words occur less than 100 times in the whole dataset, decaying sharply and exponentially.\n",
      "When examining the data, it becomes clear that common English words such as \"the\" and \"to\" occur at a much \n",
      "higher frequency than most other words.\n"
     ]
    },
    {
     "data": {
      "image/png": "[encoded data removed]",
      "text/plain": [
       "<matplotlib.figure.Figure at 0xde25ba8>"
      ]
     },
     "metadata": {},
     "output_type": "display_data"
    }
   ],
   "source": [
    "#part 1\n",
    "#Create a set of the frequency of utterance of all the distinct words spoken by candidates, and then use it to \n",
    "#create a histogram (with 30 bins) of word counts. Thus a bin is a range of count values and the corresponding \n",
    "#\"y\" value is the number of words whose count falls in this range. What is interesting about this distribution? \n",
    "#What are the 10 most common words?\n",
    "word_array = []\n",
    "\n",
    "for person in speaker_dict:\n",
    "    for paragraph in speaker_dict[person]:\n",
    "        for word in paragraph:\n",
    "            word_array.append(word)\n",
    "\n",
    "c = Counter(word_array)\n",
    "c30 = c.most_common(30)\n",
    "dict30={}\n",
    "for k,v in c30:\n",
    "    dict30[k]=v;\n",
    "s = pd.Series(dict30)\n",
    "s.plot(kind=\"bar\", figsize=(15, 5))\n",
    "\n",
    "print \"10 Most common words are:\"\n",
    "c10 = c.most_common(10)\n",
    "for word, count in c.most_common(10):\n",
    "    print '%s:\\t%d' % (word, count)\n",
    "    \n",
    "print \"\"\"\\nThe interesting thing about the data is that 20 or so words that occur with high frequency, and the vast\n",
    "majority of words occur less than 100 times in the whole dataset, decaying sharply and exponentially.\n",
    "When examining the data, it becomes clear that common English words such as \"the\" and \"to\" occur at a much \n",
    "higher frequency than most other words.\"\"\""
   ]
  },
  {
   "cell_type": "code",
   "execution_count": 136,
   "metadata": {
    "collapsed": false
   },
   "outputs": [
    {
     "name": "stdout",
     "output_type": "stream",
     "text": [
      "Trump:\n",
      "21\tcountry\n",
      "9\tever\n",
      "9\tcome\n",
      "9\tin\n",
      "6\ttell\n",
      "6\tbetter\n",
      "6\tdeals\n",
      "6\tnobody\n",
      "6\tcountries\n",
      "6\tjobs\n",
      "\n",
      "Rubio:\n",
      "12\tworld\n",
      "11\tcentury\n",
      "10\tever\n",
      "9\tjob\n",
      "9\timportant\n",
      "8\tnew\n",
      "8\teconomy\n",
      "7\t21st\n",
      "7\tAmerica\n",
      "7\tmost\n",
      "\n",
      "Cruz:\n",
      "11\tWashington\n",
      "9\twhich\n",
      "9\teconomic\n",
      "9\tbusiness\n",
      "8\ttax\n",
      "8\tIRS\n",
      "8\tgrowth\n",
      "7\tthat\n",
      "7\tplan\n",
      "7\ther\n",
      "\n",
      "Trump talks a lot about people (presumably foreigners and aliens) coming into the country. Rubio\n",
      "focuses more on economy and apparently likes the phrase \"21st century\".  Cruz has a lot to say about taxes.\n"
     ]
    }
   ],
   "source": [
    "#part 2\n",
    "#Remove the 100 most common words from vocabulary. Meaning that if you ever see this word, get rid of it. \n",
    "#Now create a new python dictionary for each candidate that is a single list of all the words spoken by this \n",
    "#candidate (ignoring these most common words). What are the 10 most common words for Trump, Rubio, and Cruz? \n",
    "#How do their words differ?\n",
    "\n",
    "c2 = Counter(word_array) #removing top 100\n",
    "c100most = c2.most_common(100)\n",
    "for k,v in c100most:\n",
    "    if k in c2:\n",
    "        del c2[k]\n",
    "\n",
    "new_speaker_dict=defaultdict(list)\n",
    "for person in speaker_dict:\n",
    "    for paragraph in speaker_dict[person]:\n",
    "        for word in paragraph:\n",
    "            if c2[word] != 0:\n",
    "                if word.endswith(\".\") or word.endswith(\",\"): #removing some punctuation\n",
    "                    word=word[:-1]\n",
    "                new_speaker_dict[person].append(word)\n",
    "\n",
    "trumpcount = Counter(new_speaker_dict[u'TRUMP'])\n",
    "rubiocount = Counter(new_speaker_dict[u'RUBIO'])\n",
    "cruzcount  = Counter(new_speaker_dict[u'CRUZ'])\n",
    "print \"Trump:\"\n",
    "for word, count in trumpcount.most_common(10): print '%d\\t%s' % (count, word)\n",
    "    \n",
    "print \"\\nRubio:\"\n",
    "for word, count in rubiocount.most_common(10): print '%d\\t%s' % (count, word)\n",
    "    \n",
    "print \"\\nCruz:\"\n",
    "for word, count in cruzcount.most_common(10):  print '%d\\t%s' % (count, word)\n",
    "\n",
    "print \"\"\"\\nTrump talks a lot about people (presumably foreigners and aliens) coming into the country. Rubio\n",
    "focuses more on economy and apparently likes the phrase \"21st century\".  Cruz has a lot to say about taxes.\"\"\""
   ]
  },
  {
   "cell_type": "code",
   "execution_count": 123,
   "metadata": {
    "collapsed": false
   },
   "outputs": [
    {
     "name": "stdout",
     "output_type": "stream",
     "text": [
      "TRUMP\twordcount:\t984\n",
      "RUBIO\twordcount:\t1124\n",
      "CARSON\twordcount:\t679\n",
      "FIORINA\twordcount:\t1000\n",
      "BUSH\twordcount:\t972\n",
      "KASICH\twordcount:\t1099\n",
      "CRUZ\twordcount:\t1131\n",
      "PAUL\twordcount:\t828\n",
      "\n",
      "Cruz is the most verbose, narrowly beating Rubio 1131 to 1124. Most candidates spoke around 1000 words,\n",
      "with the exception of Carson, who came in at a terse 679 words. \n"
     ]
    }
   ],
   "source": [
    "#part 3\n",
    "#Using our dictionary from number 2, how many words did each speaker speak? Who spoke the most? Who is the outlier?\n",
    "for speaker in new_speaker_dict:\n",
    "    print '%s\\twordcount:\\t%d' % (speaker, len(new_speaker_dict[speaker]))\n",
    "    \n",
    "print \"\"\"\\nCruz is the most verbose, narrowly beating Rubio 1131 to 1124. Most candidates spoke around 1000 words,\n",
    "with the exception of Carson, who came in at a terse 679 words. \"\"\""
   ]
  },
  {
   "cell_type": "code",
   "execution_count": 140,
   "metadata": {
    "collapsed": false
   },
   "outputs": [
    {
     "name": "stdout",
     "output_type": "stream",
     "text": [
      "TRUMP's possessive usage percentage:\t2.625182%\n",
      "RUBIO's possessive usage percentage:\t1.410859%\n",
      "CARSON's possessive usage percentage:\t2.415144%\n",
      "FIORINA's possessive usage percentage:\t1.755292%\n",
      "BUSH's possessive usage percentage:\t0.883117%\n",
      "KASICH's possessive usage percentage:\t2.567394%\n",
      "CRUZ's possessive usage percentage:\t1.196503%\n",
      "PAUL's possessive usage percentage:\t1.991798%\n",
      "\n",
      "There was a clustering at around 2.5% (Trump, Kasich, Carson) but was otherwise somewhat evenly\n",
      "distributed throughout 0.88% to 2.5%\n"
     ]
    },
    {
     "data": {
      "image/png": "[encoded data removed]",
      "text/plain": [
       "<matplotlib.figure.Figure at 0x14f2aac8>"
      ]
     },
     "metadata": {},
     "output_type": "display_data"
    }
   ],
   "source": [
    "#part 4\n",
    "#Count the percentage of time each person uses the words (I, I'm, me, mine). When doing this convert all words \n",
    "#to lower case. Create a bar plot of this percentage for each candidate with bars from largest to smallest. Use \n",
    "#dictionary that has all words (doesn't exclude most common). What does the plot show?\n",
    "\n",
    "new_new_speaker_dict=defaultdict(list)\n",
    "for person in speaker_dict:\n",
    "    for paragraph in speaker_dict[person]:\n",
    "        for word in paragraph:\n",
    "            if word.endswith(\".\") or word.endswith(\",\"): #removing some punctuation\n",
    "                word=word[:-1]\n",
    "            new_new_speaker_dict[person].append(word.lower())\n",
    "\n",
    "first_person_dict = {}\n",
    "for speaker in new_new_speaker_dict:\n",
    "    c = Counter(new_new_speaker_dict[speaker])\n",
    "    wordcount = len(new_new_speaker_dict[speaker])\n",
    "    first_person_sum = c[\"i\"] + c[u\"i’m\"] + c[\"me\"] + c[\"mine\"]\n",
    "    percentage = 100*(first_person_sum / wordcount)\n",
    "    print \"%s's possessive usage percentage:\\t%f%%\" % (speaker, percentage)\n",
    "    first_person_dict[speaker] = percentage\n",
    "\n",
    "s2 = pd.Series(first_person_dict)\n",
    "s2.plot(kind=\"bar\", figsize=(10, 5))\n",
    "\n",
    "print \"\"\"\\nThere was a clustering at around 2.5% (Trump, Kasich, Carson) but was otherwise somewhat evenly\n",
    "distributed throughout 0.88% to 2.5%\"\"\""
   ]
  },
  {
   "cell_type": "markdown",
   "metadata": {},
   "source": [
    "## Queston 3: Principal Component Analysis\n",
    "### 15 points\n",
    "\n",
    "In this question, you will explore an application of PCA.\n",
    "\n",
    "1. Convert your data from 3.2 to a vectorized format. This means you will have a row for each candidate and a column for each word in your data. A column for a candidate will contain the number of times that candidate used that word. Use [CountVectorizer](http://scikit-learn.org/stable/modules/feature_extraction.html) from sklearn with min_df = 1.\n",
    "2. Convert your data from a sparse matrix to a dense array using .toarray() and then scale it to have mean zero and standard deviation of 1. See [here](http://scikit-learn.org/stable/modules/preprocessing.html) for help.\n",
    "2. Plot the explained variance as a function of the number of PCA components (called a scree plot). Use sklearn's PCA functionality to do this.\n",
    "3. Now pick the top two principal components and project the data onto the respective dimensions. Visualize the data in a scatter plot and label each point with the candidate's name. Who are the outliers? Use sklearn and matplotlib for this. \n",
    "4.  In what sense is PCA an optimal feature extraction technique? Describe a situation where you would prefer feature selection to (linear) feature extraction, even though the former  is a special case of the latter."
   ]
  },
  {
   "cell_type": "code",
   "execution_count": 142,
   "metadata": {
    "collapsed": false
   },
   "outputs": [
    {
     "ename": "NameError",
     "evalue": "name 'CountVectorizer' is not defined",
     "output_type": "error",
     "traceback": [
      "\u001b[1;31m---------------------------------------------------------------------------\u001b[0m",
      "\u001b[1;31mNameError\u001b[0m                                 Traceback (most recent call last)",
      "\u001b[1;32m<ipython-input-142-77043b8485e1>\u001b[0m in \u001b[0;36m<module>\u001b[1;34m()\u001b[0m\n\u001b[0;32m      1\u001b[0m \u001b[1;31m#question 3 part 1\u001b[0m\u001b[1;33m\u001b[0m\u001b[1;33m\u001b[0m\u001b[0m\n\u001b[1;32m----> 2\u001b[1;33m \u001b[0mvectorizer\u001b[0m \u001b[1;33m=\u001b[0m \u001b[0mCountVectorizer\u001b[0m\u001b[1;33m(\u001b[0m\u001b[0mmin_df\u001b[0m\u001b[1;33m=\u001b[0m\u001b[1;36m1\u001b[0m\u001b[1;33m)\u001b[0m\u001b[1;33m\u001b[0m\u001b[0m\n\u001b[0m\u001b[0;32m      3\u001b[0m \u001b[0mX\u001b[0m \u001b[1;33m=\u001b[0m \u001b[0mvectorizer\u001b[0m\u001b[1;33m.\u001b[0m\u001b[0mfit_transform\u001b[0m\u001b[1;33m(\u001b[0m\u001b[0mlist\u001b[0m\u001b[1;33m(\u001b[0m\u001b[0mnew_speaker_dict\u001b[0m\u001b[1;33m)\u001b[0m\u001b[1;33m)\u001b[0m\u001b[1;33m\u001b[0m\u001b[0m\n",
      "\u001b[1;31mNameError\u001b[0m: name 'CountVectorizer' is not defined"
     ]
    }
   ],
   "source": [
    "#question 3 part 1\n",
    "vectorizer = CountVectorizer(min_df=1)\n",
    "X = vectorizer.fit_transform(list(new_speaker_dict))"
   ]
  },
  {
   "cell_type": "markdown",
   "metadata": {},
   "source": [
    "## Question 4: Robust Regression\n",
    "### 5 points\n",
    "\n",
    "In this question we will be exploring using a regression technique that is more robust to outliers. I provide some code below that injects outlier points into the original medv and lstat data from the housing dataset. This problem looks into how robust regression can help in the presence of outliers.\n",
    "\n",
    "1. Using the original data, plot lstat on the x-axis and log(medv) on the y-axis of a scatter plot with the line of best fit from a linear regression on the plot as well. Do the same, but with the data that includes the outlier values. What changes with the best fit line? Specifically, how does the slope change?\n",
    "2. Now run a linear regression with a Huber loss on the data including the outliers and create the same plot as above, but this time with the fit from the Huber loss regression (using all the data). What has changed (comment on the slope as well)? Note: Use SGDRegressor from sklearn with 500 iterations and no penalty.\n",
    "3. Explain why the huber loss is more robust to outliers.\n",
    "\n",
    "Note:  Use plot's with xlim = (-5, 40) and ylim = (1, 5). These set the range for the x any y axes."
   ]
  },
  {
   "cell_type": "code",
   "execution_count": 125,
   "metadata": {
    "collapsed": false
   },
   "outputs": [],
   "source": [
    "import pandas as pd\n",
    "import numpy as np\n",
    "\n",
    "housing_data = pd.read_csv(\"https://archive.ics.uci.edu/ml/machine-learning-databases/housing/housing.data\",\n",
    "                   delim_whitespace=True, header=None,\n",
    "                   names = ['CRIM', 'ZN', 'INDUS', 'CHAS', 'NOX', 'RM', 'AGE', 'DIS', 'RAD', 'TAX', 'PTRATIO',\n",
    "                           'B', 'LSTAT', 'MEDV'])\n",
    "housing_data = housing_data.dropna()\n",
    "lstat = housing_data.LSTAT.values\n",
    "medv = housing_data.MEDV.values\n",
    "medv_std = np.std(medv)\n",
    "lstat_std = np.std(lstat)\n",
    "np.random.seed(42)\n",
    "medv_outliers = np.random.normal(1, 1, 5)\n",
    "lstat_outliers = np.random.normal(1, 1, 5)\n",
    "medv_with_outliers = np.append(medv, medv_outliers)\n",
    "lstat_with_outliers = np.append(lstat, lstat_outliers)"
   ]
  },
  {
   "cell_type": "markdown",
   "metadata": {},
   "source": [
    "# Question 5: Visualization using Bokeh\n",
    "## 10 points\n",
    "\n",
    "In this problem, you'll build an interactive visualization. Bokeh is a Python interactive visualization library that targets modern web browsers for presentation. For more information on Bokeh, see http://bokeh.pydata.org/en/latest/. The problem statement is as follows:\n",
    "\n",
    "Using the [auto-mpg](http://archive.ics.uci.edu/ml/machine-learning-databases/auto-mpg/auto-mpg.data-original) data, your goal is to build a Bokeh visualization which allows the user explore how MPG varies with horsepower and weight. You will create a visualization that allows the user to toggle the Y axis of a scatter plot between horsepower and weight. With the x-axis always being MPG.\n",
    "\n",
    "Hints: \n",
    "1. You can make use of Select widgets.\n",
    "2. See: http://bokeh.pydata.org/en/latest/docs/user_guide/interaction.html#javascript-callbacks. Specifically look at the CustomJS for Widgets under Callbacks and the Select widget. \n",
    "3. See: http://bokeh.pydata.org/en/latest/docs/reference/plotting.html. Look for the scatter API.\n",
    "4. See: http://bokeh.pydata.org/en/0.10.0/docs/user_guide/styling.html#labels. For labeling axes.\n",
    "5. Use output_notebook() from Bokeh to output the plot to your notebook\n",
    "\n",
    "We have made available a sample screenshot of our Bokeh app that supports the above requirements. Your interface should look similar to the screenshots."
   ]
  },
  {
   "cell_type": "code",
   "execution_count": 4,
   "metadata": {
    "collapsed": false,
    "scrolled": true
   },
   "outputs": [
    {
     "data": {
      "text/html": [
       "\n",
       "    <div class=\"bk-banner\">\n",
       "        <a href=\"http://bokeh.pydata.org\" target=\"_blank\" class=\"bk-logo bk-logo-small bk-logo-notebook\"></a>\n",
       "        <span id=\"8888bdb9-397f-47aa-8dda-920ee6294fe3\">Loading BokehJS ...</span>\n",
       "    </div>"
      ]
     },
     "metadata": {},
     "output_type": "display_data"
    },
    {
     "data": {
      "application/javascript": [
       "\n",
       "(function(global) {\n",
       "  function now() {\n",
       "    return new Date();\n",
       "  }\n",
       "\n",
       "  if (typeof (window._bokeh_onload_callbacks) === \"undefined\") {\n",
       "    window._bokeh_onload_callbacks = [];\n",
       "  }\n",
       "\n",
       "  function run_callbacks() {\n",
       "    window._bokeh_onload_callbacks.forEach(function(callback) { callback() });\n",
       "    delete window._bokeh_onload_callbacks\n",
       "    console.info(\"Bokeh: all callbacks have finished\");\n",
       "  }\n",
       "\n",
       "  function load_libs(js_urls, callback) {\n",
       "    window._bokeh_onload_callbacks.push(callback);\n",
       "    if (window._bokeh_is_loading > 0) {\n",
       "      console.log(\"Bokeh: BokehJS is being loaded, scheduling callback at\", now());\n",
       "      return null;\n",
       "    }\n",
       "    if (js_urls == null || js_urls.length === 0) {\n",
       "      run_callbacks();\n",
       "      return null;\n",
       "    }\n",
       "    console.log(\"Bokeh: BokehJS not loaded, scheduling load and callback at\", now());\n",
       "    window._bokeh_is_loading = js_urls.length;\n",
       "    for (var i = 0; i < js_urls.length; i++) {\n",
       "      var url = js_urls[i];\n",
       "      var s = document.createElement('script');\n",
       "      s.src = url;\n",
       "      s.async = false;\n",
       "      s.onreadystatechange = s.onload = function() {\n",
       "        window._bokeh_is_loading--;\n",
       "        if (window._bokeh_is_loading === 0) {\n",
       "          console.log(\"Bokeh: all BokehJS libraries loaded\");\n",
       "          run_callbacks()\n",
       "        }\n",
       "      };\n",
       "      s.onerror = function() {\n",
       "        console.warn(\"failed to load library \" + url);\n",
       "      };\n",
       "      console.log(\"Bokeh: injecting script tag for BokehJS library: \", url);\n",
       "      document.getElementsByTagName(\"head\")[0].appendChild(s);\n",
       "    }\n",
       "  };\n",
       "\n",
       "  var js_urls = ['https://cdn.pydata.org/bokeh/release/bokeh-0.11.1.min.js', 'https://cdn.pydata.org/bokeh/release/bokeh-widgets-0.11.1.min.js', 'https://cdn.pydata.org/bokeh/release/bokeh-compiler-0.11.1.min.js'];\n",
       "\n",
       "  var inline_js = [\n",
       "    function(Bokeh) {\n",
       "      Bokeh.set_log_level(\"info\");\n",
       "    },\n",
       "    \n",
       "    function(Bokeh) {\n",
       "      Bokeh.$(\"#8888bdb9-397f-47aa-8dda-920ee6294fe3\").text(\"BokehJS successfully loaded\");\n",
       "    },\n",
       "    function(Bokeh) {\n",
       "      console.log(\"Bokeh: injecting CSS: https://cdn.pydata.org/bokeh/release/bokeh-0.11.1.min.css\");\n",
       "      Bokeh.embed.inject_css(\"https://cdn.pydata.org/bokeh/release/bokeh-0.11.1.min.css\");\n",
       "      console.log(\"Bokeh: injecting CSS: https://cdn.pydata.org/bokeh/release/bokeh-widgets-0.11.1.min.css\");\n",
       "      Bokeh.embed.inject_css(\"https://cdn.pydata.org/bokeh/release/bokeh-widgets-0.11.1.min.css\");\n",
       "    }\n",
       "  ];\n",
       "\n",
       "  function run_inline_js() {\n",
       "    for (var i = 0; i < inline_js.length; i++) {\n",
       "      inline_js[i](window.Bokeh);\n",
       "    }\n",
       "  }\n",
       "\n",
       "  if (window._bokeh_is_loading === 0) {\n",
       "    console.log(\"Bokeh: BokehJS loaded, going straight to plotting\");\n",
       "    run_inline_js();\n",
       "  } else {\n",
       "    load_libs(js_urls, function() {\n",
       "      console.log(\"Bokeh: BokehJS plotting callback run at\", now());\n",
       "      run_inline_js();\n",
       "    });\n",
       "  }\n",
       "}(this));"
      ]
     },
     "metadata": {},
     "output_type": "display_data"
    },
    {
     "data": {
      "text/html": [
       "\n",
       "\n",
       "    <div class=\"plotdiv\" id=\"590d9abc-57bc-4265-950f-01918a6d8ff5\"></div>\n",
       "<script type=\"text/javascript\">\n",
       "  \n",
       "  (function(global) {\n",
       "    function now() {\n",
       "      return new Date();\n",
       "    }\n",
       "  \n",
       "    if (typeof (window._bokeh_onload_callbacks) === \"undefined\") {\n",
       "      window._bokeh_onload_callbacks = [];\n",
       "    }\n",
       "  \n",
       "    function run_callbacks() {\n",
       "      window._bokeh_onload_callbacks.forEach(function(callback) { callback() });\n",
       "      delete window._bokeh_onload_callbacks\n",
       "      console.info(\"Bokeh: all callbacks have finished\");\n",
       "    }\n",
       "  \n",
       "    function load_libs(js_urls, callback) {\n",
       "      window._bokeh_onload_callbacks.push(callback);\n",
       "      if (window._bokeh_is_loading > 0) {\n",
       "        console.log(\"Bokeh: BokehJS is being loaded, scheduling callback at\", now());\n",
       "        return null;\n",
       "      }\n",
       "      if (js_urls == null || js_urls.length === 0) {\n",
       "        run_callbacks();\n",
       "        return null;\n",
       "      }\n",
       "      console.log(\"Bokeh: BokehJS not loaded, scheduling load and callback at\", now());\n",
       "      window._bokeh_is_loading = js_urls.length;\n",
       "      for (var i = 0; i < js_urls.length; i++) {\n",
       "        var url = js_urls[i];\n",
       "        var s = document.createElement('script');\n",
       "        s.src = url;\n",
       "        s.async = false;\n",
       "        s.onreadystatechange = s.onload = function() {\n",
       "          window._bokeh_is_loading--;\n",
       "          if (window._bokeh_is_loading === 0) {\n",
       "            console.log(\"Bokeh: all BokehJS libraries loaded\");\n",
       "            run_callbacks()\n",
       "          }\n",
       "        };\n",
       "        s.onerror = function() {\n",
       "          console.warn(\"failed to load library \" + url);\n",
       "        };\n",
       "        console.log(\"Bokeh: injecting script tag for BokehJS library: \", url);\n",
       "        document.getElementsByTagName(\"head\")[0].appendChild(s);\n",
       "      }\n",
       "    };var element = document.getElementById(\"590d9abc-57bc-4265-950f-01918a6d8ff5\");\n",
       "    if (element == null) {\n",
       "      console.log(\"Bokeh: ERROR: autoload.js configured with elementid '590d9abc-57bc-4265-950f-01918a6d8ff5' but no matching script tag was found. \")\n",
       "      return false;\n",
       "    }\n",
       "  \n",
       "    var js_urls = [];\n",
       "  \n",
       "    var inline_js = [\n",
       "      function(Bokeh) {\n",
       "        Bokeh.$(function() {\n",
       "            var docs_json = {\"cc6cc9ee-d185-4aa9-9bc3-eb17f83eb318\":{\"roots\":{\"references\":[{\"attributes\":{\"callback\":null,\"tabs\":[{\"id\":\"5a4787c0-7b78-4283-85f1-530ed8ac2951\",\"type\":\"Panel\"},{\"id\":\"f23e0017-1b06-4d0d-b8b6-c4ecd7421eea\",\"type\":\"Panel\"}]},\"id\":\"adaf4f19-c905-4d73-a31c-a55d21d6ddb5\",\"type\":\"Tabs\"},{\"attributes\":{\"plot\":{\"id\":\"69e8e6c5-76dc-4375-91ee-086f81648a4b\",\"subtype\":\"Figure\",\"type\":\"Plot\"}},\"id\":\"6651620e-eca5-441a-9d1c-8edf40a6320b\",\"type\":\"PreviewSaveTool\"},{\"attributes\":{},\"id\":\"5ca8a293-b09d-48a4-9edb-c00900f313a7\",\"type\":\"ToolEvents\"},{\"attributes\":{},\"id\":\"96ac90e4-df5c-46aa-8229-2ee0081461e5\",\"type\":\"BasicTickFormatter\"},{\"attributes\":{\"fill_alpha\":{\"value\":0.1},\"fill_color\":{\"value\":\"#1f77b4\"},\"line_alpha\":{\"value\":0.1},\"line_color\":{\"value\":\"#1f77b4\"},\"x\":{\"field\":\"x\"},\"y\":{\"field\":\"y\"}},\"id\":\"fe8cf609-c14e-4eff-9569-3b870ba07643\",\"type\":\"Circle\"},{\"attributes\":{\"callback\":null,\"column_names\":[\"y\",\"x\"],\"data\":{\"x\":[18.0,15.0,18.0,16.0,17.0,15.0,14.0,14.0,14.0,15.0,15.0,14.0,15.0,14.0,24.0,22.0,18.0,21.0,27.0,26.0,25.0,24.0,25.0,26.0,21.0,10.0,10.0,11.0,9.0,27.0,28.0,25.0,19.0,16.0,17.0,19.0,18.0,14.0,14.0,14.0,14.0,12.0,13.0,13.0,18.0,22.0,19.0,18.0,23.0,28.0,30.0,30.0,31.0,35.0,27.0,26.0,24.0,25.0,23.0,20.0,21.0,13.0,14.0,15.0,14.0,17.0,11.0,13.0,12.0,13.0,19.0,15.0,13.0,13.0,14.0,18.0,22.0,21.0,26.0,22.0,28.0,23.0,28.0,27.0,13.0,14.0,13.0,14.0,15.0,12.0,13.0,13.0,14.0,13.0,12.0,13.0,18.0,16.0,18.0,18.0,23.0,26.0,11.0,12.0,13.0,12.0,18.0,20.0,21.0,22.0,18.0,19.0,21.0,26.0,15.0,16.0,29.0,24.0,20.0,19.0,15.0,24.0,20.0,11.0,20.0,19.0,15.0,31.0,26.0,32.0,25.0,16.0,16.0,18.0,16.0,13.0,14.0,14.0,14.0,29.0,26.0,26.0,31.0,32.0,28.0,24.0,26.0,24.0,26.0,31.0,19.0,18.0,15.0,15.0,16.0,15.0,16.0,14.0,17.0,16.0,15.0,18.0,21.0,20.0,13.0,29.0,23.0,20.0,23.0,24.0,25.0,24.0,18.0,29.0,19.0,23.0,23.0,22.0,25.0,33.0,28.0,25.0,25.0,26.0,27.0,17.5,16.0,15.5,14.5,22.0,22.0,24.0,22.5,29.0,24.5,29.0,33.0,20.0,18.0,18.5,17.5,29.5,32.0,28.0,26.5,20.0,13.0,19.0,19.0,16.5,16.5,13.0,13.0,13.0,31.5,30.0,36.0,25.5,33.5,17.5,17.0,15.5,15.0,17.5,20.5,19.0,18.5,16.0,15.5,15.5,16.0,29.0,24.5,26.0,25.5,30.5,33.5,30.0,30.5,22.0,21.5,21.5,43.1,36.1,32.8,39.4,36.1,19.9,19.4,20.2,19.2,20.5,20.2,25.1,20.5,19.4,20.6,20.8,18.6,18.1,19.2,17.7,18.1,17.5,30.0,27.5,27.2,30.9,21.1,23.2,23.8,23.9,20.3,17.0,21.6,16.2,31.5,29.5,21.5,19.8,22.3,20.2,20.6,17.0,17.6,16.5,18.2,16.9,15.5,19.2,18.5,31.9,34.1,35.7,27.4,25.4,23.0,27.2,23.9,34.2,34.5,31.8,37.3,28.4,28.8,26.8,33.5,41.5,38.1,32.1,37.2,28.0,26.4,24.3,19.1,34.3,29.8,31.3,37.0,32.2,46.6,27.9,40.8,44.3,43.4,36.4,30.0,44.6,33.8,29.8,32.7,23.7,35.0,32.4,27.2,26.6,25.8,23.5,30.0,39.1,39.0,35.1,32.3,37.0,37.7,34.1,34.7,34.4,29.9,33.0,33.7,32.4,32.9,31.6,28.1,30.7,25.4,24.2,22.4,26.6,20.2,17.6,28.0,27.0,34.0,31.0,29.0,27.0,24.0,36.0,37.0,31.0,38.0,36.0,36.0,36.0,34.0,38.0,32.0,38.0,25.0,38.0,26.0,22.0,32.0,36.0,27.0,27.0,44.0,32.0,28.0,31.0],\"y\":[130.0,165.0,150.0,150.0,140.0,198.0,220.0,215.0,225.0,190.0,170.0,160.0,150.0,225.0,95.0,95.0,97.0,85.0,88.0,46.0,87.0,90.0,95.0,113.0,90.0,215.0,200.0,210.0,193.0,88.0,90.0,95.0,100.0,105.0,100.0,88.0,100.0,165.0,175.0,153.0,150.0,180.0,170.0,175.0,110.0,72.0,100.0,88.0,86.0,90.0,70.0,76.0,65.0,69.0,60.0,70.0,95.0,80.0,54.0,90.0,86.0,165.0,175.0,150.0,153.0,150.0,208.0,155.0,160.0,190.0,97.0,150.0,130.0,140.0,150.0,112.0,76.0,87.0,69.0,86.0,92.0,97.0,80.0,88.0,175.0,150.0,145.0,137.0,150.0,198.0,150.0,158.0,150.0,215.0,225.0,175.0,105.0,100.0,100.0,88.0,95.0,46.0,150.0,167.0,170.0,180.0,100.0,88.0,72.0,94.0,90.0,85.0,107.0,90.0,145.0,230.0,49.0,75.0,91.0,112.0,150.0,110.0,122.0,180.0,95.0,100.0,100.0,67.0,80.0,65.0,75.0,100.0,110.0,105.0,140.0,150.0,150.0,140.0,150.0,83.0,67.0,78.0,52.0,61.0,75.0,75.0,75.0,97.0,93.0,67.0,95.0,105.0,72.0,72.0,170.0,145.0,150.0,148.0,110.0,105.0,110.0,95.0,110.0,110.0,129.0,75.0,83.0,100.0,78.0,96.0,71.0,97.0,97.0,70.0,90.0,95.0,88.0,98.0,115.0,53.0,86.0,81.0,92.0,79.0,83.0,140.0,150.0,120.0,152.0,100.0,105.0,81.0,90.0,52.0,60.0,70.0,53.0,100.0,78.0,110.0,95.0,71.0,70.0,75.0,72.0,102.0,150.0,88.0,108.0,120.0,180.0,145.0,130.0,150.0,68.0,80.0,58.0,96.0,70.0,145.0,110.0,145.0,130.0,110.0,105.0,100.0,98.0,180.0,170.0,190.0,149.0,78.0,88.0,75.0,89.0,63.0,83.0,67.0,78.0,97.0,110.0,110.0,48.0,66.0,52.0,70.0,60.0,110.0,140.0,139.0,105.0,95.0,85.0,88.0,100.0,90.0,105.0,85.0,110.0,120.0,145.0,165.0,139.0,140.0,68.0,95.0,97.0,75.0,95.0,105.0,85.0,97.0,103.0,125.0,115.0,133.0,71.0,68.0,115.0,85.0,88.0,90.0,110.0,130.0,129.0,138.0,135.0,155.0,142.0,125.0,150.0,71.0,65.0,80.0,80.0,77.0,125.0,71.0,90.0,70.0,70.0,65.0,69.0,90.0,115.0,115.0,90.0,76.0,60.0,70.0,65.0,90.0,88.0,90.0,90.0,78.0,90.0,75.0,92.0,75.0,65.0,105.0,65.0,48.0,48.0,67.0,67.0,67.0,67.0,62.0,132.0,100.0,88.0,72.0,84.0,84.0,92.0,110.0,84.0,58.0,64.0,60.0,67.0,65.0,62.0,68.0,63.0,65.0,65.0,74.0,75.0,75.0,100.0,74.0,80.0,76.0,116.0,120.0,110.0,105.0,88.0,85.0,88.0,88.0,88.0,85.0,84.0,90.0,92.0,74.0,68.0,68.0,63.0,70.0,88.0,75.0,70.0,67.0,67.0,67.0,110.0,85.0,92.0,112.0,96.0,84.0,90.0,86.0,52.0,84.0,79.0,82.0]}},\"id\":\"8fb0622c-3c41-4de6-be52-71c2382a9008\",\"type\":\"ColumnDataSource\"},{\"attributes\":{\"data_source\":{\"id\":\"ff7c1bb4-bcd7-4cac-885e-be58c9c39042\",\"type\":\"ColumnDataSource\"},\"glyph\":{\"id\":\"2ed3e830-a21d-4665-85a0-8d476302fb5f\",\"type\":\"Circle\"},\"hover_glyph\":null,\"nonselection_glyph\":{\"id\":\"76007c6e-314c-4fbc-b2b3-9bc4403f9164\",\"type\":\"Circle\"},\"selection_glyph\":null},\"id\":\"a87733c1-b3ad-4277-bbf8-fd9ae002b148\",\"type\":\"GlyphRenderer\"},{\"attributes\":{\"plot\":{\"id\":\"0a5a5031-9827-4f19-aba0-8a67a0c8bafa\",\"subtype\":\"Figure\",\"type\":\"Plot\"}},\"id\":\"5cd91409-0eda-437e-a076-9feeb6778925\",\"type\":\"PanTool\"},{\"attributes\":{\"fill_color\":{\"value\":\"blue\"},\"line_color\":{\"value\":\"blue\"},\"x\":{\"field\":\"x\"},\"y\":{\"field\":\"y\"}},\"id\":\"16d599ca-019f-4081-a82b-6771757c10e8\",\"type\":\"Circle\"},{\"attributes\":{\"plot\":{\"id\":\"69e8e6c5-76dc-4375-91ee-086f81648a4b\",\"subtype\":\"Figure\",\"type\":\"Plot\"}},\"id\":\"d10debad-9e80-4a71-a337-51413c2f825f\",\"type\":\"WheelZoomTool\"},{\"attributes\":{\"callback\":null,\"column_names\":[\"y\",\"x\"],\"data\":{\"x\":[18.0,15.0,18.0,16.0,17.0,15.0,14.0,14.0,14.0,15.0,15.0,14.0,15.0,14.0,24.0,22.0,18.0,21.0,27.0,26.0,25.0,24.0,25.0,26.0,21.0,10.0,10.0,11.0,9.0,27.0,28.0,25.0,19.0,16.0,17.0,19.0,18.0,14.0,14.0,14.0,14.0,12.0,13.0,13.0,18.0,22.0,19.0,18.0,23.0,28.0,30.0,30.0,31.0,35.0,27.0,26.0,24.0,25.0,23.0,20.0,21.0,13.0,14.0,15.0,14.0,17.0,11.0,13.0,12.0,13.0,19.0,15.0,13.0,13.0,14.0,18.0,22.0,21.0,26.0,22.0,28.0,23.0,28.0,27.0,13.0,14.0,13.0,14.0,15.0,12.0,13.0,13.0,14.0,13.0,12.0,13.0,18.0,16.0,18.0,18.0,23.0,26.0,11.0,12.0,13.0,12.0,18.0,20.0,21.0,22.0,18.0,19.0,21.0,26.0,15.0,16.0,29.0,24.0,20.0,19.0,15.0,24.0,20.0,11.0,20.0,19.0,15.0,31.0,26.0,32.0,25.0,16.0,16.0,18.0,16.0,13.0,14.0,14.0,14.0,29.0,26.0,26.0,31.0,32.0,28.0,24.0,26.0,24.0,26.0,31.0,19.0,18.0,15.0,15.0,16.0,15.0,16.0,14.0,17.0,16.0,15.0,18.0,21.0,20.0,13.0,29.0,23.0,20.0,23.0,24.0,25.0,24.0,18.0,29.0,19.0,23.0,23.0,22.0,25.0,33.0,28.0,25.0,25.0,26.0,27.0,17.5,16.0,15.5,14.5,22.0,22.0,24.0,22.5,29.0,24.5,29.0,33.0,20.0,18.0,18.5,17.5,29.5,32.0,28.0,26.5,20.0,13.0,19.0,19.0,16.5,16.5,13.0,13.0,13.0,31.5,30.0,36.0,25.5,33.5,17.5,17.0,15.5,15.0,17.5,20.5,19.0,18.5,16.0,15.5,15.5,16.0,29.0,24.5,26.0,25.5,30.5,33.5,30.0,30.5,22.0,21.5,21.5,43.1,36.1,32.8,39.4,36.1,19.9,19.4,20.2,19.2,20.5,20.2,25.1,20.5,19.4,20.6,20.8,18.6,18.1,19.2,17.7,18.1,17.5,30.0,27.5,27.2,30.9,21.1,23.2,23.8,23.9,20.3,17.0,21.6,16.2,31.5,29.5,21.5,19.8,22.3,20.2,20.6,17.0,17.6,16.5,18.2,16.9,15.5,19.2,18.5,31.9,34.1,35.7,27.4,25.4,23.0,27.2,23.9,34.2,34.5,31.8,37.3,28.4,28.8,26.8,33.5,41.5,38.1,32.1,37.2,28.0,26.4,24.3,19.1,34.3,29.8,31.3,37.0,32.2,46.6,27.9,40.8,44.3,43.4,36.4,30.0,44.6,33.8,29.8,32.7,23.7,35.0,32.4,27.2,26.6,25.8,23.5,30.0,39.1,39.0,35.1,32.3,37.0,37.7,34.1,34.7,34.4,29.9,33.0,33.7,32.4,32.9,31.6,28.1,30.7,25.4,24.2,22.4,26.6,20.2,17.6,28.0,27.0,34.0,31.0,29.0,27.0,24.0,36.0,37.0,31.0,38.0,36.0,36.0,36.0,34.0,38.0,32.0,38.0,25.0,38.0,26.0,22.0,32.0,36.0,27.0,27.0,44.0,32.0,28.0,31.0],\"y\":[3504.0,3693.0,3436.0,3433.0,3449.0,4341.0,4354.0,4312.0,4425.0,3850.0,3563.0,3609.0,3761.0,3086.0,2372.0,2833.0,2774.0,2587.0,2130.0,1835.0,2672.0,2430.0,2375.0,2234.0,2648.0,4615.0,4376.0,4382.0,4732.0,2130.0,2264.0,2228.0,2634.0,3439.0,3329.0,3302.0,3288.0,4209.0,4464.0,4154.0,4096.0,4955.0,4746.0,5140.0,2962.0,2408.0,3282.0,3139.0,2220.0,2123.0,2074.0,2065.0,1773.0,1613.0,1834.0,1955.0,2278.0,2126.0,2254.0,2408.0,2226.0,4274.0,4385.0,4135.0,4129.0,3672.0,4633.0,4502.0,4456.0,4422.0,2330.0,3892.0,4098.0,4294.0,4077.0,2933.0,2511.0,2979.0,2189.0,2395.0,2288.0,2506.0,2164.0,2100.0,4100.0,3672.0,3988.0,4042.0,3777.0,4952.0,4464.0,4363.0,4237.0,4735.0,4951.0,3821.0,3121.0,3278.0,2945.0,3021.0,2904.0,1950.0,4997.0,4906.0,4654.0,4499.0,2789.0,2279.0,2401.0,2379.0,2124.0,2310.0,2472.0,2265.0,4082.0,4278.0,1867.0,2158.0,2582.0,2868.0,3399.0,2660.0,2807.0,3664.0,3102.0,2901.0,3336.0,1950.0,2451.0,1836.0,2542.0,3781.0,3632.0,3613.0,4141.0,4699.0,4457.0,4638.0,4257.0,2219.0,1963.0,2300.0,1649.0,2003.0,2125.0,2108.0,2246.0,2489.0,2391.0,2000.0,3264.0,3459.0,3432.0,3158.0,4668.0,4440.0,4498.0,4657.0,3907.0,3897.0,3730.0,3785.0,3039.0,3221.0,3169.0,2171.0,2639.0,2914.0,2592.0,2702.0,2223.0,2545.0,2984.0,1937.0,3211.0,2694.0,2957.0,2945.0,2671.0,1795.0,2464.0,2220.0,2572.0,2255.0,2202.0,4215.0,4190.0,3962.0,4215.0,3233.0,3353.0,3012.0,3085.0,2035.0,2164.0,1937.0,1795.0,3651.0,3574.0,3645.0,3193.0,1825.0,1990.0,2155.0,2565.0,3150.0,3940.0,3270.0,2930.0,3820.0,4380.0,4055.0,3870.0,3755.0,2045.0,2155.0,1825.0,2300.0,1945.0,3880.0,4060.0,4140.0,4295.0,3520.0,3425.0,3630.0,3525.0,4220.0,4165.0,4325.0,4335.0,1940.0,2740.0,2265.0,2755.0,2051.0,2075.0,1985.0,2190.0,2815.0,2600.0,2720.0,1985.0,1800.0,1985.0,2070.0,1800.0,3365.0,3735.0,3570.0,3535.0,3155.0,2965.0,2720.0,3430.0,3210.0,3380.0,3070.0,3620.0,3410.0,3425.0,3445.0,3205.0,4080.0,2155.0,2560.0,2300.0,2230.0,2515.0,2745.0,2855.0,2405.0,2830.0,3140.0,2795.0,3410.0,1990.0,2135.0,3245.0,2990.0,2890.0,3265.0,3360.0,3840.0,3725.0,3955.0,3830.0,4360.0,4054.0,3605.0,3940.0,1925.0,1975.0,1915.0,2670.0,3530.0,3900.0,3190.0,3420.0,2200.0,2150.0,2020.0,2130.0,2670.0,2595.0,2700.0,2556.0,2144.0,1968.0,2120.0,2019.0,2678.0,2870.0,3003.0,3381.0,2188.0,2711.0,2542.0,2434.0,2265.0,2110.0,2800.0,2110.0,2085.0,2335.0,2950.0,3250.0,1850.0,2145.0,1845.0,2910.0,2420.0,2500.0,2290.0,2490.0,2635.0,2620.0,2725.0,2385.0,1755.0,1875.0,1760.0,2065.0,1975.0,2050.0,1985.0,2215.0,2045.0,2380.0,2190.0,2210.0,2350.0,2615.0,2635.0,3230.0,3160.0,2900.0,2930.0,3415.0,3725.0,3060.0,3465.0,2605.0,2640.0,2395.0,2575.0,2525.0,2735.0,2865.0,1980.0,2025.0,1970.0,2125.0,2125.0,2160.0,2205.0,2245.0,1965.0,1965.0,1995.0,2945.0,3015.0,2585.0,2835.0,2665.0,2370.0,2950.0,2790.0,2130.0,2295.0,2625.0,2720.0]}},\"id\":\"ff7c1bb4-bcd7-4cac-885e-be58c9c39042\",\"type\":\"ColumnDataSource\"},{\"attributes\":{},\"id\":\"5f6474d8-d0e9-4bf6-a34e-878ba64d7ae9\",\"type\":\"BasicTickFormatter\"},{\"attributes\":{\"fill_alpha\":{\"value\":0.1},\"fill_color\":{\"value\":\"#1f77b4\"},\"line_alpha\":{\"value\":0.1},\"line_color\":{\"value\":\"#1f77b4\"},\"x\":{\"field\":\"x\"},\"y\":{\"field\":\"y\"}},\"id\":\"a2e8b709-89bd-47d3-9202-d1757e8250e7\",\"type\":\"Circle\"},{\"attributes\":{},\"id\":\"d9dcc456-8ca4-41dc-986c-d5046d043a9d\",\"type\":\"BasicTicker\"},{\"attributes\":{\"axis_label\":\"Horsepower\",\"axis_label_text_color\":{\"value\":\"green\"},\"formatter\":{\"id\":\"441c4f0f-ff3f-42c5-8d08-e50ad5fccc86\",\"type\":\"BasicTickFormatter\"},\"plot\":{\"id\":\"b1da7a81-3b66-4268-afce-ed72ed70ec20\",\"subtype\":\"Figure\",\"type\":\"Plot\"},\"ticker\":{\"id\":\"46cdd9f3-24d0-4049-81d7-81c1f8b16b57\",\"type\":\"BasicTicker\"}},\"id\":\"f6140529-6320-4912-9f5b-90e9a1071596\",\"type\":\"LinearAxis\"},{\"attributes\":{\"bottom_units\":\"screen\",\"fill_alpha\":{\"value\":0.5},\"fill_color\":{\"value\":\"lightgrey\"},\"left_units\":\"screen\",\"level\":\"overlay\",\"line_alpha\":{\"value\":1.0},\"line_color\":{\"value\":\"black\"},\"line_dash\":[4,4],\"line_width\":{\"value\":2},\"plot\":null,\"render_mode\":\"css\",\"right_units\":\"screen\",\"top_units\":\"screen\"},\"id\":\"664f15e7-ff8f-4ebb-9812-ba5284f7dea5\",\"type\":\"BoxAnnotation\"},{\"attributes\":{\"plot\":{\"id\":\"e3d322bd-d15a-44bd-a533-abe9bd06f15d\",\"subtype\":\"Figure\",\"type\":\"Plot\"}},\"id\":\"860d162c-5092-4ff6-bddf-0fc513a3f562\",\"type\":\"ResetTool\"},{\"attributes\":{\"bottom_units\":\"screen\",\"fill_alpha\":{\"value\":0.5},\"fill_color\":{\"value\":\"lightgrey\"},\"left_units\":\"screen\",\"level\":\"overlay\",\"line_alpha\":{\"value\":1.0},\"line_color\":{\"value\":\"black\"},\"line_dash\":[4,4],\"line_width\":{\"value\":2},\"plot\":null,\"render_mode\":\"css\",\"right_units\":\"screen\",\"top_units\":\"screen\"},\"id\":\"eafc1791-752c-4b87-ab0c-3f8f9599eaab\",\"type\":\"BoxAnnotation\"},{\"attributes\":{},\"id\":\"1d8635ae-943c-4125-91e5-68268e8d7615\",\"type\":\"ToolEvents\"},{\"attributes\":{\"overlay\":{\"id\":\"f4c47abe-9fc1-4841-9f87-00f75cce7066\",\"type\":\"BoxAnnotation\"},\"plot\":{\"id\":\"b1da7a81-3b66-4268-afce-ed72ed70ec20\",\"subtype\":\"Figure\",\"type\":\"Plot\"}},\"id\":\"a73ca2e3-b8fb-4bb3-8d59-0231a996cd0b\",\"type\":\"BoxZoomTool\"},{\"attributes\":{\"plot\":{\"id\":\"69e8e6c5-76dc-4375-91ee-086f81648a4b\",\"subtype\":\"Figure\",\"type\":\"Plot\"}},\"id\":\"3f1a1078-13ce-47a7-a507-83001cbb5f4c\",\"type\":\"PanTool\"},{\"attributes\":{\"plot\":{\"id\":\"b1da7a81-3b66-4268-afce-ed72ed70ec20\",\"subtype\":\"Figure\",\"type\":\"Plot\"}},\"id\":\"4e7aca50-86fd-40ae-bec4-f0eeb1422f1c\",\"type\":\"ResetTool\"},{\"attributes\":{\"plot\":{\"id\":\"0a5a5031-9827-4f19-aba0-8a67a0c8bafa\",\"subtype\":\"Figure\",\"type\":\"Plot\"}},\"id\":\"38488e7c-98c2-4eb7-b88e-178be838710d\",\"type\":\"WheelZoomTool\"},{\"attributes\":{},\"id\":\"f5f44cc6-f437-424a-b92b-29a36a73f3b2\",\"type\":\"BasicTickFormatter\"},{\"attributes\":{\"data_source\":{\"id\":\"679cdc90-1179-44f1-9d84-19ffa2540f78\",\"type\":\"ColumnDataSource\"},\"glyph\":{\"id\":\"16d599ca-019f-4081-a82b-6771757c10e8\",\"type\":\"Circle\"},\"hover_glyph\":null,\"nonselection_glyph\":{\"id\":\"a2e8b709-89bd-47d3-9202-d1757e8250e7\",\"type\":\"Circle\"},\"selection_glyph\":null},\"id\":\"1b9e3f74-96cf-499d-b83a-0fc778832bb0\",\"type\":\"GlyphRenderer\"},{\"attributes\":{\"callback\":null,\"column_names\":[\"y\",\"x\"],\"data\":{\"x\":[18.0,15.0,18.0,16.0,17.0,15.0,14.0,14.0,14.0,15.0,15.0,14.0,15.0,14.0,24.0,22.0,18.0,21.0,27.0,26.0,25.0,24.0,25.0,26.0,21.0,10.0,10.0,11.0,9.0,27.0,28.0,25.0,19.0,16.0,17.0,19.0,18.0,14.0,14.0,14.0,14.0,12.0,13.0,13.0,18.0,22.0,19.0,18.0,23.0,28.0,30.0,30.0,31.0,35.0,27.0,26.0,24.0,25.0,23.0,20.0,21.0,13.0,14.0,15.0,14.0,17.0,11.0,13.0,12.0,13.0,19.0,15.0,13.0,13.0,14.0,18.0,22.0,21.0,26.0,22.0,28.0,23.0,28.0,27.0,13.0,14.0,13.0,14.0,15.0,12.0,13.0,13.0,14.0,13.0,12.0,13.0,18.0,16.0,18.0,18.0,23.0,26.0,11.0,12.0,13.0,12.0,18.0,20.0,21.0,22.0,18.0,19.0,21.0,26.0,15.0,16.0,29.0,24.0,20.0,19.0,15.0,24.0,20.0,11.0,20.0,19.0,15.0,31.0,26.0,32.0,25.0,16.0,16.0,18.0,16.0,13.0,14.0,14.0,14.0,29.0,26.0,26.0,31.0,32.0,28.0,24.0,26.0,24.0,26.0,31.0,19.0,18.0,15.0,15.0,16.0,15.0,16.0,14.0,17.0,16.0,15.0,18.0,21.0,20.0,13.0,29.0,23.0,20.0,23.0,24.0,25.0,24.0,18.0,29.0,19.0,23.0,23.0,22.0,25.0,33.0,28.0,25.0,25.0,26.0,27.0,17.5,16.0,15.5,14.5,22.0,22.0,24.0,22.5,29.0,24.5,29.0,33.0,20.0,18.0,18.5,17.5,29.5,32.0,28.0,26.5,20.0,13.0,19.0,19.0,16.5,16.5,13.0,13.0,13.0,31.5,30.0,36.0,25.5,33.5,17.5,17.0,15.5,15.0,17.5,20.5,19.0,18.5,16.0,15.5,15.5,16.0,29.0,24.5,26.0,25.5,30.5,33.5,30.0,30.5,22.0,21.5,21.5,43.1,36.1,32.8,39.4,36.1,19.9,19.4,20.2,19.2,20.5,20.2,25.1,20.5,19.4,20.6,20.8,18.6,18.1,19.2,17.7,18.1,17.5,30.0,27.5,27.2,30.9,21.1,23.2,23.8,23.9,20.3,17.0,21.6,16.2,31.5,29.5,21.5,19.8,22.3,20.2,20.6,17.0,17.6,16.5,18.2,16.9,15.5,19.2,18.5,31.9,34.1,35.7,27.4,25.4,23.0,27.2,23.9,34.2,34.5,31.8,37.3,28.4,28.8,26.8,33.5,41.5,38.1,32.1,37.2,28.0,26.4,24.3,19.1,34.3,29.8,31.3,37.0,32.2,46.6,27.9,40.8,44.3,43.4,36.4,30.0,44.6,33.8,29.8,32.7,23.7,35.0,32.4,27.2,26.6,25.8,23.5,30.0,39.1,39.0,35.1,32.3,37.0,37.7,34.1,34.7,34.4,29.9,33.0,33.7,32.4,32.9,31.6,28.1,30.7,25.4,24.2,22.4,26.6,20.2,17.6,28.0,27.0,34.0,31.0,29.0,27.0,24.0,36.0,37.0,31.0,38.0,36.0,36.0,36.0,34.0,38.0,32.0,38.0,25.0,38.0,26.0,22.0,32.0,36.0,27.0,27.0,44.0,32.0,28.0,31.0],\"y\":[130.0,165.0,150.0,150.0,140.0,198.0,220.0,215.0,225.0,190.0,170.0,160.0,150.0,225.0,95.0,95.0,97.0,85.0,88.0,46.0,87.0,90.0,95.0,113.0,90.0,215.0,200.0,210.0,193.0,88.0,90.0,95.0,100.0,105.0,100.0,88.0,100.0,165.0,175.0,153.0,150.0,180.0,170.0,175.0,110.0,72.0,100.0,88.0,86.0,90.0,70.0,76.0,65.0,69.0,60.0,70.0,95.0,80.0,54.0,90.0,86.0,165.0,175.0,150.0,153.0,150.0,208.0,155.0,160.0,190.0,97.0,150.0,130.0,140.0,150.0,112.0,76.0,87.0,69.0,86.0,92.0,97.0,80.0,88.0,175.0,150.0,145.0,137.0,150.0,198.0,150.0,158.0,150.0,215.0,225.0,175.0,105.0,100.0,100.0,88.0,95.0,46.0,150.0,167.0,170.0,180.0,100.0,88.0,72.0,94.0,90.0,85.0,107.0,90.0,145.0,230.0,49.0,75.0,91.0,112.0,150.0,110.0,122.0,180.0,95.0,100.0,100.0,67.0,80.0,65.0,75.0,100.0,110.0,105.0,140.0,150.0,150.0,140.0,150.0,83.0,67.0,78.0,52.0,61.0,75.0,75.0,75.0,97.0,93.0,67.0,95.0,105.0,72.0,72.0,170.0,145.0,150.0,148.0,110.0,105.0,110.0,95.0,110.0,110.0,129.0,75.0,83.0,100.0,78.0,96.0,71.0,97.0,97.0,70.0,90.0,95.0,88.0,98.0,115.0,53.0,86.0,81.0,92.0,79.0,83.0,140.0,150.0,120.0,152.0,100.0,105.0,81.0,90.0,52.0,60.0,70.0,53.0,100.0,78.0,110.0,95.0,71.0,70.0,75.0,72.0,102.0,150.0,88.0,108.0,120.0,180.0,145.0,130.0,150.0,68.0,80.0,58.0,96.0,70.0,145.0,110.0,145.0,130.0,110.0,105.0,100.0,98.0,180.0,170.0,190.0,149.0,78.0,88.0,75.0,89.0,63.0,83.0,67.0,78.0,97.0,110.0,110.0,48.0,66.0,52.0,70.0,60.0,110.0,140.0,139.0,105.0,95.0,85.0,88.0,100.0,90.0,105.0,85.0,110.0,120.0,145.0,165.0,139.0,140.0,68.0,95.0,97.0,75.0,95.0,105.0,85.0,97.0,103.0,125.0,115.0,133.0,71.0,68.0,115.0,85.0,88.0,90.0,110.0,130.0,129.0,138.0,135.0,155.0,142.0,125.0,150.0,71.0,65.0,80.0,80.0,77.0,125.0,71.0,90.0,70.0,70.0,65.0,69.0,90.0,115.0,115.0,90.0,76.0,60.0,70.0,65.0,90.0,88.0,90.0,90.0,78.0,90.0,75.0,92.0,75.0,65.0,105.0,65.0,48.0,48.0,67.0,67.0,67.0,67.0,62.0,132.0,100.0,88.0,72.0,84.0,84.0,92.0,110.0,84.0,58.0,64.0,60.0,67.0,65.0,62.0,68.0,63.0,65.0,65.0,74.0,75.0,75.0,100.0,74.0,80.0,76.0,116.0,120.0,110.0,105.0,88.0,85.0,88.0,88.0,88.0,85.0,84.0,90.0,92.0,74.0,68.0,68.0,63.0,70.0,88.0,75.0,70.0,67.0,67.0,67.0,110.0,85.0,92.0,112.0,96.0,84.0,90.0,86.0,52.0,84.0,79.0,82.0]}},\"id\":\"679cdc90-1179-44f1-9d84-19ffa2540f78\",\"type\":\"ColumnDataSource\"},{\"attributes\":{\"axis_label\":\"Weight\",\"axis_label_text_color\":{\"value\":\"green\"},\"formatter\":{\"id\":\"96ac90e4-df5c-46aa-8229-2ee0081461e5\",\"type\":\"BasicTickFormatter\"},\"plot\":{\"id\":\"69e8e6c5-76dc-4375-91ee-086f81648a4b\",\"subtype\":\"Figure\",\"type\":\"Plot\"},\"ticker\":{\"id\":\"a0d97961-bb67-4aa8-8a69-0022c671caf8\",\"type\":\"BasicTicker\"}},\"id\":\"aeeff12e-3ad6-4d52-8316-47b67afd5191\",\"type\":\"LinearAxis\"},{\"attributes\":{\"overlay\":{\"id\":\"eafc1791-752c-4b87-ab0c-3f8f9599eaab\",\"type\":\"BoxAnnotation\"},\"plot\":{\"id\":\"0a5a5031-9827-4f19-aba0-8a67a0c8bafa\",\"subtype\":\"Figure\",\"type\":\"Plot\"}},\"id\":\"1931a7dc-a4d1-4ee4-9958-44ddd9768e53\",\"type\":\"BoxZoomTool\"},{\"attributes\":{\"plot\":{\"id\":\"0a5a5031-9827-4f19-aba0-8a67a0c8bafa\",\"subtype\":\"Figure\",\"type\":\"Plot\"}},\"id\":\"0becdb94-2b41-46e8-b5ff-7b6eb3e3159c\",\"type\":\"HelpTool\"},{\"attributes\":{\"plot\":{\"id\":\"b1da7a81-3b66-4268-afce-ed72ed70ec20\",\"subtype\":\"Figure\",\"type\":\"Plot\"}},\"id\":\"b44094a0-f5b8-497c-bd7a-9b29c35975a7\",\"type\":\"WheelZoomTool\"},{\"attributes\":{\"callback\":null},\"id\":\"0cb9dd00-14a9-443e-a7fa-34a06a2e2370\",\"type\":\"DataRange1d\"},{\"attributes\":{},\"id\":\"462f1775-53bb-4610-ac75-fd2a203feb59\",\"type\":\"BasicTicker\"},{\"attributes\":{\"dimension\":1,\"plot\":{\"id\":\"69e8e6c5-76dc-4375-91ee-086f81648a4b\",\"subtype\":\"Figure\",\"type\":\"Plot\"},\"ticker\":{\"id\":\"a0d97961-bb67-4aa8-8a69-0022c671caf8\",\"type\":\"BasicTicker\"}},\"id\":\"6d1146c1-cd26-41d2-bc59-ad2dd333f108\",\"type\":\"Grid\"},{\"attributes\":{},\"id\":\"441c4f0f-ff3f-42c5-8d08-e50ad5fccc86\",\"type\":\"BasicTickFormatter\"},{\"attributes\":{\"plot\":{\"id\":\"0a5a5031-9827-4f19-aba0-8a67a0c8bafa\",\"subtype\":\"Figure\",\"type\":\"Plot\"},\"ticker\":{\"id\":\"b044b812-2123-4f03-a8cc-0678ed96288f\",\"type\":\"BasicTicker\"}},\"id\":\"d57c47ee-aef5-408a-a189-ee728babdb82\",\"type\":\"Grid\"},{\"attributes\":{},\"id\":\"8a080e00-abeb-4792-bc5b-bd2f326eb010\",\"type\":\"BasicTicker\"},{\"attributes\":{\"callback\":null},\"id\":\"7ef65b2a-e32c-4073-b492-8f671937cf2a\",\"type\":\"DataRange1d\"},{\"attributes\":{\"data_source\":{\"id\":\"8fb0622c-3c41-4de6-be52-71c2382a9008\",\"type\":\"ColumnDataSource\"},\"glyph\":{\"id\":\"48cc37ee-3033-43e1-9cfe-2237deb4d72d\",\"type\":\"Circle\"},\"hover_glyph\":null,\"nonselection_glyph\":{\"id\":\"819f7917-9174-41f5-b933-176c3ac16d44\",\"type\":\"Circle\"},\"selection_glyph\":null},\"id\":\"894779fa-3995-4957-a3a0-cfbef17b3033\",\"type\":\"GlyphRenderer\"},{\"attributes\":{\"below\":[{\"id\":\"08823f84-1336-4941-9ed5-dfb5d6e251c5\",\"type\":\"LinearAxis\"}],\"left\":[{\"id\":\"f6140529-6320-4912-9f5b-90e9a1071596\",\"type\":\"LinearAxis\"}],\"plot_height\":500,\"plot_width\":800,\"renderers\":[{\"id\":\"08823f84-1336-4941-9ed5-dfb5d6e251c5\",\"type\":\"LinearAxis\"},{\"id\":\"9cc0f164-a7d8-4a52-9e61-8a6be5b87da4\",\"type\":\"Grid\"},{\"id\":\"f6140529-6320-4912-9f5b-90e9a1071596\",\"type\":\"LinearAxis\"},{\"id\":\"35de3707-2174-4e6a-bea0-a7a54fab6234\",\"type\":\"Grid\"},{\"id\":\"f4c47abe-9fc1-4841-9f87-00f75cce7066\",\"type\":\"BoxAnnotation\"},{\"id\":\"1b9e3f74-96cf-499d-b83a-0fc778832bb0\",\"type\":\"GlyphRenderer\"}],\"title\":\"MPG Vs. Horsepower\",\"tool_events\":{\"id\":\"c3271a9a-4f35-43c8-baad-76ac93c615f4\",\"type\":\"ToolEvents\"},\"tools\":[{\"id\":\"ba59a6c9-49e9-4958-98da-d2b18cd39df7\",\"type\":\"PanTool\"},{\"id\":\"b44094a0-f5b8-497c-bd7a-9b29c35975a7\",\"type\":\"WheelZoomTool\"},{\"id\":\"a73ca2e3-b8fb-4bb3-8d59-0231a996cd0b\",\"type\":\"BoxZoomTool\"},{\"id\":\"032f65a1-283a-441d-a8db-9bd0fb0c0fd3\",\"type\":\"PreviewSaveTool\"},{\"id\":\"8463455b-00d5-437d-9dcf-04d181dce270\",\"type\":\"ResizeTool\"},{\"id\":\"4e7aca50-86fd-40ae-bec4-f0eeb1422f1c\",\"type\":\"ResetTool\"},{\"id\":\"01af06d0-a70e-4c7e-878c-104a4c8c7cfc\",\"type\":\"HelpTool\"}],\"x_range\":{\"id\":\"29bfc0cf-c154-4e88-9539-116b399d99ba\",\"type\":\"DataRange1d\"},\"y_range\":{\"id\":\"0cb9dd00-14a9-443e-a7fa-34a06a2e2370\",\"type\":\"DataRange1d\"}},\"id\":\"b1da7a81-3b66-4268-afce-ed72ed70ec20\",\"subtype\":\"Figure\",\"type\":\"Plot\"},{\"attributes\":{},\"id\":\"46cdd9f3-24d0-4049-81d7-81c1f8b16b57\",\"type\":\"BasicTicker\"},{\"attributes\":{\"callback\":null},\"id\":\"6dbaebc1-1cde-4afd-8484-837b2df93d9a\",\"type\":\"DataRange1d\"},{\"attributes\":{\"axis_label\":\"MPG\",\"axis_label_text_color\":{\"field\":\"weight\"},\"formatter\":{\"id\":\"f0396747-7479-43ac-bc3f-283dfedc6744\",\"type\":\"BasicTickFormatter\"},\"plot\":{\"id\":\"e3d322bd-d15a-44bd-a533-abe9bd06f15d\",\"subtype\":\"Figure\",\"type\":\"Plot\"},\"ticker\":{\"id\":\"d9dcc456-8ca4-41dc-986c-d5046d043a9d\",\"type\":\"BasicTicker\"}},\"id\":\"df106c58-adbb-4d76-af77-5e798630dc6e\",\"type\":\"LinearAxis\"},{\"attributes\":{\"plot\":{\"id\":\"b1da7a81-3b66-4268-afce-ed72ed70ec20\",\"subtype\":\"Figure\",\"type\":\"Plot\"}},\"id\":\"8463455b-00d5-437d-9dcf-04d181dce270\",\"type\":\"ResizeTool\"},{\"attributes\":{\"axis_label\":\"Horsepower\",\"axis_label_text_color\":{\"value\":\"green\"},\"formatter\":{\"id\":\"dc840ec9-c07f-437e-9a14-9aa3d85a546a\",\"type\":\"BasicTickFormatter\"},\"plot\":{\"id\":\"e3d322bd-d15a-44bd-a533-abe9bd06f15d\",\"subtype\":\"Figure\",\"type\":\"Plot\"},\"ticker\":{\"id\":\"44051937-21f0-40e1-bf94-e7a215edd275\",\"type\":\"BasicTicker\"}},\"id\":\"bff08a74-2cee-49b3-b87a-09b5b6392c06\",\"type\":\"LinearAxis\"},{\"attributes\":{\"plot\":{\"id\":\"b1da7a81-3b66-4268-afce-ed72ed70ec20\",\"subtype\":\"Figure\",\"type\":\"Plot\"}},\"id\":\"032f65a1-283a-441d-a8db-9bd0fb0c0fd3\",\"type\":\"PreviewSaveTool\"},{\"attributes\":{\"fill_color\":{\"value\":\"blue\"},\"line_color\":{\"value\":\"blue\"},\"x\":{\"field\":\"x\"},\"y\":{\"field\":\"y\"}},\"id\":\"b24946d4-0dd0-49d4-96f4-8a6a35912a93\",\"type\":\"Circle\"},{\"attributes\":{\"child\":{\"id\":\"e3d322bd-d15a-44bd-a533-abe9bd06f15d\",\"subtype\":\"Figure\",\"type\":\"Plot\"},\"title\":\"Horsepower Plot\"},\"id\":\"5a4787c0-7b78-4283-85f1-530ed8ac2951\",\"type\":\"Panel\"},{\"attributes\":{\"plot\":{\"id\":\"0a5a5031-9827-4f19-aba0-8a67a0c8bafa\",\"subtype\":\"Figure\",\"type\":\"Plot\"}},\"id\":\"c656cd4d-279e-455e-9c41-24ef09fd3be8\",\"type\":\"ResizeTool\"},{\"attributes\":{\"fill_color\":{\"value\":\"blue\"},\"line_color\":{\"value\":\"blue\"},\"x\":{\"field\":\"x\"},\"y\":{\"field\":\"y\"}},\"id\":\"2ed3e830-a21d-4665-85a0-8d476302fb5f\",\"type\":\"Circle\"},{\"attributes\":{\"callback\":null},\"id\":\"0706cb0f-f633-40b9-9143-e71f54696569\",\"type\":\"DataRange1d\"},{\"attributes\":{\"plot\":{\"id\":\"0a5a5031-9827-4f19-aba0-8a67a0c8bafa\",\"subtype\":\"Figure\",\"type\":\"Plot\"}},\"id\":\"ab1d0a18-c958-4e88-a108-9b39964c0ce9\",\"type\":\"ResetTool\"},{\"attributes\":{\"plot\":{\"id\":\"e3d322bd-d15a-44bd-a533-abe9bd06f15d\",\"subtype\":\"Figure\",\"type\":\"Plot\"}},\"id\":\"a308409c-61aa-4469-967d-738574bd1b80\",\"type\":\"WheelZoomTool\"},{\"attributes\":{\"fill_color\":{\"value\":\"blue\"},\"line_color\":{\"value\":\"blue\"},\"x\":{\"field\":\"x\"},\"y\":{\"field\":\"y\"}},\"id\":\"48cc37ee-3033-43e1-9cfe-2237deb4d72d\",\"type\":\"Circle\"},{\"attributes\":{\"dimension\":1,\"plot\":{\"id\":\"b1da7a81-3b66-4268-afce-ed72ed70ec20\",\"subtype\":\"Figure\",\"type\":\"Plot\"},\"ticker\":{\"id\":\"46cdd9f3-24d0-4049-81d7-81c1f8b16b57\",\"type\":\"BasicTicker\"}},\"id\":\"35de3707-2174-4e6a-bea0-a7a54fab6234\",\"type\":\"Grid\"},{\"attributes\":{\"overlay\":{\"id\":\"664f15e7-ff8f-4ebb-9812-ba5284f7dea5\",\"type\":\"BoxAnnotation\"},\"plot\":{\"id\":\"e3d322bd-d15a-44bd-a533-abe9bd06f15d\",\"subtype\":\"Figure\",\"type\":\"Plot\"}},\"id\":\"04ee94c7-4253-4ab0-bbfa-f552670ed6df\",\"type\":\"BoxZoomTool\"},{\"attributes\":{\"plot\":{\"id\":\"69e8e6c5-76dc-4375-91ee-086f81648a4b\",\"subtype\":\"Figure\",\"type\":\"Plot\"},\"ticker\":{\"id\":\"462f1775-53bb-4610-ac75-fd2a203feb59\",\"type\":\"BasicTicker\"}},\"id\":\"4f939104-6339-46db-bdfb-cfd4e8715bdc\",\"type\":\"Grid\"},{\"attributes\":{\"below\":[{\"id\":\"741e7abc-ee86-4ba7-a09e-007515517d85\",\"type\":\"LinearAxis\"}],\"left\":[{\"id\":\"aeeff12e-3ad6-4d52-8316-47b67afd5191\",\"type\":\"LinearAxis\"}],\"plot_height\":500,\"plot_width\":800,\"renderers\":[{\"id\":\"741e7abc-ee86-4ba7-a09e-007515517d85\",\"type\":\"LinearAxis\"},{\"id\":\"4f939104-6339-46db-bdfb-cfd4e8715bdc\",\"type\":\"Grid\"},{\"id\":\"aeeff12e-3ad6-4d52-8316-47b67afd5191\",\"type\":\"LinearAxis\"},{\"id\":\"6d1146c1-cd26-41d2-bc59-ad2dd333f108\",\"type\":\"Grid\"},{\"id\":\"ac80eacc-f921-4ffa-a93d-ec1e28e2de75\",\"type\":\"BoxAnnotation\"},{\"id\":\"5b929a53-7512-495d-91fb-0e1e829a5d04\",\"type\":\"GlyphRenderer\"}],\"title\":\"MPG Vs. Weight\",\"tool_events\":{\"id\":\"5ca8a293-b09d-48a4-9edb-c00900f313a7\",\"type\":\"ToolEvents\"},\"tools\":[{\"id\":\"3f1a1078-13ce-47a7-a507-83001cbb5f4c\",\"type\":\"PanTool\"},{\"id\":\"d10debad-9e80-4a71-a337-51413c2f825f\",\"type\":\"WheelZoomTool\"},{\"id\":\"bcabedfa-3789-4d25-9248-7c4bb0215867\",\"type\":\"BoxZoomTool\"},{\"id\":\"6651620e-eca5-441a-9d1c-8edf40a6320b\",\"type\":\"PreviewSaveTool\"},{\"id\":\"bc946a1e-3709-422d-aa48-db3bbfa89519\",\"type\":\"ResizeTool\"},{\"id\":\"2dd756d0-be3b-4a1c-8377-6965bb147d88\",\"type\":\"ResetTool\"},{\"id\":\"3b3b10c6-868c-42d2-959f-cfb4863516b0\",\"type\":\"HelpTool\"}],\"x_range\":{\"id\":\"0706cb0f-f633-40b9-9143-e71f54696569\",\"type\":\"DataRange1d\"},\"y_range\":{\"id\":\"9be27057-0799-4daa-85aa-b8bf5bb5e297\",\"type\":\"DataRange1d\"}},\"id\":\"69e8e6c5-76dc-4375-91ee-086f81648a4b\",\"subtype\":\"Figure\",\"type\":\"Plot\"},{\"attributes\":{\"callback\":null},\"id\":\"29bfc0cf-c154-4e88-9539-116b399d99ba\",\"type\":\"DataRange1d\"},{\"attributes\":{\"plot\":{\"id\":\"e3d322bd-d15a-44bd-a533-abe9bd06f15d\",\"subtype\":\"Figure\",\"type\":\"Plot\"}},\"id\":\"3a0d8226-b1f4-4936-a237-0cc5ef513d06\",\"type\":\"HelpTool\"},{\"attributes\":{},\"id\":\"f0396747-7479-43ac-bc3f-283dfedc6744\",\"type\":\"BasicTickFormatter\"},{\"attributes\":{},\"id\":\"c3271a9a-4f35-43c8-baad-76ac93c615f4\",\"type\":\"ToolEvents\"},{\"attributes\":{},\"id\":\"dc840ec9-c07f-437e-9a14-9aa3d85a546a\",\"type\":\"BasicTickFormatter\"},{\"attributes\":{},\"id\":\"272b1d7d-48eb-4c70-9b68-b77d8b5f1372\",\"type\":\"ToolEvents\"},{\"attributes\":{},\"id\":\"44051937-21f0-40e1-bf94-e7a215edd275\",\"type\":\"BasicTicker\"},{\"attributes\":{\"child\":{\"id\":\"69e8e6c5-76dc-4375-91ee-086f81648a4b\",\"subtype\":\"Figure\",\"type\":\"Plot\"},\"title\":\"Weight Plot\"},\"id\":\"f23e0017-1b06-4d0d-b8b6-c4ecd7421eea\",\"type\":\"Panel\"},{\"attributes\":{\"axis_label\":\"MPG\",\"axis_label_text_color\":{\"value\":\"purple\"},\"formatter\":{\"id\":\"f5f44cc6-f437-424a-b92b-29a36a73f3b2\",\"type\":\"BasicTickFormatter\"},\"plot\":{\"id\":\"0a5a5031-9827-4f19-aba0-8a67a0c8bafa\",\"subtype\":\"Figure\",\"type\":\"Plot\"},\"ticker\":{\"id\":\"b044b812-2123-4f03-a8cc-0678ed96288f\",\"type\":\"BasicTicker\"}},\"id\":\"343acb64-808e-4cf4-9401-54ff1384e15c\",\"type\":\"LinearAxis\"},{\"attributes\":{\"plot\":{\"id\":\"e3d322bd-d15a-44bd-a533-abe9bd06f15d\",\"subtype\":\"Figure\",\"type\":\"Plot\"}},\"id\":\"5ca2929c-6f7e-4f19-8509-8368d6d6e585\",\"type\":\"PanTool\"},{\"attributes\":{\"callback\":null,\"column_names\":[\"y\",\"x\"],\"data\":{\"x\":[18.0,15.0,18.0,16.0,17.0,15.0,14.0,14.0,14.0,15.0,15.0,14.0,15.0,14.0,24.0,22.0,18.0,21.0,27.0,26.0,25.0,24.0,25.0,26.0,21.0,10.0,10.0,11.0,9.0,27.0,28.0,25.0,19.0,16.0,17.0,19.0,18.0,14.0,14.0,14.0,14.0,12.0,13.0,13.0,18.0,22.0,19.0,18.0,23.0,28.0,30.0,30.0,31.0,35.0,27.0,26.0,24.0,25.0,23.0,20.0,21.0,13.0,14.0,15.0,14.0,17.0,11.0,13.0,12.0,13.0,19.0,15.0,13.0,13.0,14.0,18.0,22.0,21.0,26.0,22.0,28.0,23.0,28.0,27.0,13.0,14.0,13.0,14.0,15.0,12.0,13.0,13.0,14.0,13.0,12.0,13.0,18.0,16.0,18.0,18.0,23.0,26.0,11.0,12.0,13.0,12.0,18.0,20.0,21.0,22.0,18.0,19.0,21.0,26.0,15.0,16.0,29.0,24.0,20.0,19.0,15.0,24.0,20.0,11.0,20.0,19.0,15.0,31.0,26.0,32.0,25.0,16.0,16.0,18.0,16.0,13.0,14.0,14.0,14.0,29.0,26.0,26.0,31.0,32.0,28.0,24.0,26.0,24.0,26.0,31.0,19.0,18.0,15.0,15.0,16.0,15.0,16.0,14.0,17.0,16.0,15.0,18.0,21.0,20.0,13.0,29.0,23.0,20.0,23.0,24.0,25.0,24.0,18.0,29.0,19.0,23.0,23.0,22.0,25.0,33.0,28.0,25.0,25.0,26.0,27.0,17.5,16.0,15.5,14.5,22.0,22.0,24.0,22.5,29.0,24.5,29.0,33.0,20.0,18.0,18.5,17.5,29.5,32.0,28.0,26.5,20.0,13.0,19.0,19.0,16.5,16.5,13.0,13.0,13.0,31.5,30.0,36.0,25.5,33.5,17.5,17.0,15.5,15.0,17.5,20.5,19.0,18.5,16.0,15.5,15.5,16.0,29.0,24.5,26.0,25.5,30.5,33.5,30.0,30.5,22.0,21.5,21.5,43.1,36.1,32.8,39.4,36.1,19.9,19.4,20.2,19.2,20.5,20.2,25.1,20.5,19.4,20.6,20.8,18.6,18.1,19.2,17.7,18.1,17.5,30.0,27.5,27.2,30.9,21.1,23.2,23.8,23.9,20.3,17.0,21.6,16.2,31.5,29.5,21.5,19.8,22.3,20.2,20.6,17.0,17.6,16.5,18.2,16.9,15.5,19.2,18.5,31.9,34.1,35.7,27.4,25.4,23.0,27.2,23.9,34.2,34.5,31.8,37.3,28.4,28.8,26.8,33.5,41.5,38.1,32.1,37.2,28.0,26.4,24.3,19.1,34.3,29.8,31.3,37.0,32.2,46.6,27.9,40.8,44.3,43.4,36.4,30.0,44.6,33.8,29.8,32.7,23.7,35.0,32.4,27.2,26.6,25.8,23.5,30.0,39.1,39.0,35.1,32.3,37.0,37.7,34.1,34.7,34.4,29.9,33.0,33.7,32.4,32.9,31.6,28.1,30.7,25.4,24.2,22.4,26.6,20.2,17.6,28.0,27.0,34.0,31.0,29.0,27.0,24.0,36.0,37.0,31.0,38.0,36.0,36.0,36.0,34.0,38.0,32.0,38.0,25.0,38.0,26.0,22.0,32.0,36.0,27.0,27.0,44.0,32.0,28.0,31.0],\"y\":[3504.0,3693.0,3436.0,3433.0,3449.0,4341.0,4354.0,4312.0,4425.0,3850.0,3563.0,3609.0,3761.0,3086.0,2372.0,2833.0,2774.0,2587.0,2130.0,1835.0,2672.0,2430.0,2375.0,2234.0,2648.0,4615.0,4376.0,4382.0,4732.0,2130.0,2264.0,2228.0,2634.0,3439.0,3329.0,3302.0,3288.0,4209.0,4464.0,4154.0,4096.0,4955.0,4746.0,5140.0,2962.0,2408.0,3282.0,3139.0,2220.0,2123.0,2074.0,2065.0,1773.0,1613.0,1834.0,1955.0,2278.0,2126.0,2254.0,2408.0,2226.0,4274.0,4385.0,4135.0,4129.0,3672.0,4633.0,4502.0,4456.0,4422.0,2330.0,3892.0,4098.0,4294.0,4077.0,2933.0,2511.0,2979.0,2189.0,2395.0,2288.0,2506.0,2164.0,2100.0,4100.0,3672.0,3988.0,4042.0,3777.0,4952.0,4464.0,4363.0,4237.0,4735.0,4951.0,3821.0,3121.0,3278.0,2945.0,3021.0,2904.0,1950.0,4997.0,4906.0,4654.0,4499.0,2789.0,2279.0,2401.0,2379.0,2124.0,2310.0,2472.0,2265.0,4082.0,4278.0,1867.0,2158.0,2582.0,2868.0,3399.0,2660.0,2807.0,3664.0,3102.0,2901.0,3336.0,1950.0,2451.0,1836.0,2542.0,3781.0,3632.0,3613.0,4141.0,4699.0,4457.0,4638.0,4257.0,2219.0,1963.0,2300.0,1649.0,2003.0,2125.0,2108.0,2246.0,2489.0,2391.0,2000.0,3264.0,3459.0,3432.0,3158.0,4668.0,4440.0,4498.0,4657.0,3907.0,3897.0,3730.0,3785.0,3039.0,3221.0,3169.0,2171.0,2639.0,2914.0,2592.0,2702.0,2223.0,2545.0,2984.0,1937.0,3211.0,2694.0,2957.0,2945.0,2671.0,1795.0,2464.0,2220.0,2572.0,2255.0,2202.0,4215.0,4190.0,3962.0,4215.0,3233.0,3353.0,3012.0,3085.0,2035.0,2164.0,1937.0,1795.0,3651.0,3574.0,3645.0,3193.0,1825.0,1990.0,2155.0,2565.0,3150.0,3940.0,3270.0,2930.0,3820.0,4380.0,4055.0,3870.0,3755.0,2045.0,2155.0,1825.0,2300.0,1945.0,3880.0,4060.0,4140.0,4295.0,3520.0,3425.0,3630.0,3525.0,4220.0,4165.0,4325.0,4335.0,1940.0,2740.0,2265.0,2755.0,2051.0,2075.0,1985.0,2190.0,2815.0,2600.0,2720.0,1985.0,1800.0,1985.0,2070.0,1800.0,3365.0,3735.0,3570.0,3535.0,3155.0,2965.0,2720.0,3430.0,3210.0,3380.0,3070.0,3620.0,3410.0,3425.0,3445.0,3205.0,4080.0,2155.0,2560.0,2300.0,2230.0,2515.0,2745.0,2855.0,2405.0,2830.0,3140.0,2795.0,3410.0,1990.0,2135.0,3245.0,2990.0,2890.0,3265.0,3360.0,3840.0,3725.0,3955.0,3830.0,4360.0,4054.0,3605.0,3940.0,1925.0,1975.0,1915.0,2670.0,3530.0,3900.0,3190.0,3420.0,2200.0,2150.0,2020.0,2130.0,2670.0,2595.0,2700.0,2556.0,2144.0,1968.0,2120.0,2019.0,2678.0,2870.0,3003.0,3381.0,2188.0,2711.0,2542.0,2434.0,2265.0,2110.0,2800.0,2110.0,2085.0,2335.0,2950.0,3250.0,1850.0,2145.0,1845.0,2910.0,2420.0,2500.0,2290.0,2490.0,2635.0,2620.0,2725.0,2385.0,1755.0,1875.0,1760.0,2065.0,1975.0,2050.0,1985.0,2215.0,2045.0,2380.0,2190.0,2210.0,2350.0,2615.0,2635.0,3230.0,3160.0,2900.0,2930.0,3415.0,3725.0,3060.0,3465.0,2605.0,2640.0,2395.0,2575.0,2525.0,2735.0,2865.0,1980.0,2025.0,1970.0,2125.0,2125.0,2160.0,2205.0,2245.0,1965.0,1965.0,1995.0,2945.0,3015.0,2585.0,2835.0,2665.0,2370.0,2950.0,2790.0,2130.0,2295.0,2625.0,2720.0]}},\"id\":\"890d592a-8cc9-4bd8-93ec-1296c587f84e\",\"type\":\"ColumnDataSource\"},{\"attributes\":{\"plot\":{\"id\":\"69e8e6c5-76dc-4375-91ee-086f81648a4b\",\"subtype\":\"Figure\",\"type\":\"Plot\"}},\"id\":\"bc946a1e-3709-422d-aa48-db3bbfa89519\",\"type\":\"ResizeTool\"},{\"attributes\":{\"plot\":{\"id\":\"e3d322bd-d15a-44bd-a533-abe9bd06f15d\",\"subtype\":\"Figure\",\"type\":\"Plot\"}},\"id\":\"1788ff28-6265-4da1-ad1e-1f619e723d1f\",\"type\":\"ResizeTool\"},{\"attributes\":{},\"id\":\"b044b812-2123-4f03-a8cc-0678ed96288f\",\"type\":\"BasicTicker\"},{\"attributes\":{\"callback\":null},\"id\":\"f421ee66-a2ab-44f3-adc6-37b1e48442eb\",\"type\":\"DataRange1d\"},{\"attributes\":{\"fill_alpha\":{\"value\":0.1},\"fill_color\":{\"value\":\"#1f77b4\"},\"line_alpha\":{\"value\":0.1},\"line_color\":{\"value\":\"#1f77b4\"},\"x\":{\"field\":\"x\"},\"y\":{\"field\":\"y\"}},\"id\":\"76007c6e-314c-4fbc-b2b3-9bc4403f9164\",\"type\":\"Circle\"},{\"attributes\":{\"dimension\":1,\"plot\":{\"id\":\"e3d322bd-d15a-44bd-a533-abe9bd06f15d\",\"subtype\":\"Figure\",\"type\":\"Plot\"},\"ticker\":{\"id\":\"44051937-21f0-40e1-bf94-e7a215edd275\",\"type\":\"BasicTicker\"}},\"id\":\"91ce13ca-72c6-415b-8536-ba3a0dcb0a7f\",\"type\":\"Grid\"},{\"attributes\":{\"axis_label\":\"Weight\",\"axis_label_text_color\":{\"value\":\"green\"},\"formatter\":{\"id\":\"d636caf0-8ecd-4e2d-9a83-a5ae67839f6c\",\"type\":\"BasicTickFormatter\"},\"plot\":{\"id\":\"0a5a5031-9827-4f19-aba0-8a67a0c8bafa\",\"subtype\":\"Figure\",\"type\":\"Plot\"},\"ticker\":{\"id\":\"8a080e00-abeb-4792-bc5b-bd2f326eb010\",\"type\":\"BasicTicker\"}},\"id\":\"e7340051-a69e-487f-a8a4-d3db1a31373c\",\"type\":\"LinearAxis\"},{\"attributes\":{\"callback\":null},\"id\":\"9be27057-0799-4daa-85aa-b8bf5bb5e297\",\"type\":\"DataRange1d\"},{\"attributes\":{\"below\":[{\"id\":\"df106c58-adbb-4d76-af77-5e798630dc6e\",\"type\":\"LinearAxis\"}],\"left\":[{\"id\":\"bff08a74-2cee-49b3-b87a-09b5b6392c06\",\"type\":\"LinearAxis\"}],\"plot_height\":500,\"plot_width\":800,\"renderers\":[{\"id\":\"df106c58-adbb-4d76-af77-5e798630dc6e\",\"type\":\"LinearAxis\"},{\"id\":\"f8b8f58a-f39e-4605-b15e-adc29569e81a\",\"type\":\"Grid\"},{\"id\":\"bff08a74-2cee-49b3-b87a-09b5b6392c06\",\"type\":\"LinearAxis\"},{\"id\":\"91ce13ca-72c6-415b-8536-ba3a0dcb0a7f\",\"type\":\"Grid\"},{\"id\":\"664f15e7-ff8f-4ebb-9812-ba5284f7dea5\",\"type\":\"BoxAnnotation\"},{\"id\":\"894779fa-3995-4957-a3a0-cfbef17b3033\",\"type\":\"GlyphRenderer\"}],\"title\":\"MPG Vs. Horsepower\",\"tool_events\":{\"id\":\"1d8635ae-943c-4125-91e5-68268e8d7615\",\"type\":\"ToolEvents\"},\"tools\":[{\"id\":\"5ca2929c-6f7e-4f19-8509-8368d6d6e585\",\"type\":\"PanTool\"},{\"id\":\"a308409c-61aa-4469-967d-738574bd1b80\",\"type\":\"WheelZoomTool\"},{\"id\":\"04ee94c7-4253-4ab0-bbfa-f552670ed6df\",\"type\":\"BoxZoomTool\"},{\"id\":\"747f31a7-834b-4501-9936-5fb9770707b5\",\"type\":\"PreviewSaveTool\"},{\"id\":\"1788ff28-6265-4da1-ad1e-1f619e723d1f\",\"type\":\"ResizeTool\"},{\"id\":\"860d162c-5092-4ff6-bddf-0fc513a3f562\",\"type\":\"ResetTool\"},{\"id\":\"3a0d8226-b1f4-4936-a237-0cc5ef513d06\",\"type\":\"HelpTool\"}],\"x_range\":{\"id\":\"f421ee66-a2ab-44f3-adc6-37b1e48442eb\",\"type\":\"DataRange1d\"},\"y_range\":{\"id\":\"6dbaebc1-1cde-4afd-8484-837b2df93d9a\",\"type\":\"DataRange1d\"}},\"id\":\"e3d322bd-d15a-44bd-a533-abe9bd06f15d\",\"subtype\":\"Figure\",\"type\":\"Plot\"},{\"attributes\":{\"overlay\":{\"id\":\"ac80eacc-f921-4ffa-a93d-ec1e28e2de75\",\"type\":\"BoxAnnotation\"},\"plot\":{\"id\":\"69e8e6c5-76dc-4375-91ee-086f81648a4b\",\"subtype\":\"Figure\",\"type\":\"Plot\"}},\"id\":\"bcabedfa-3789-4d25-9248-7c4bb0215867\",\"type\":\"BoxZoomTool\"},{\"attributes\":{},\"id\":\"d636caf0-8ecd-4e2d-9a83-a5ae67839f6c\",\"type\":\"BasicTickFormatter\"},{\"attributes\":{},\"id\":\"57003563-9589-4ea5-896f-8b8f60b20a3a\",\"type\":\"BasicTicker\"},{\"attributes\":{\"plot\":{\"id\":\"b1da7a81-3b66-4268-afce-ed72ed70ec20\",\"subtype\":\"Figure\",\"type\":\"Plot\"}},\"id\":\"ba59a6c9-49e9-4958-98da-d2b18cd39df7\",\"type\":\"PanTool\"},{\"attributes\":{\"dimension\":1,\"plot\":{\"id\":\"0a5a5031-9827-4f19-aba0-8a67a0c8bafa\",\"subtype\":\"Figure\",\"type\":\"Plot\"},\"ticker\":{\"id\":\"8a080e00-abeb-4792-bc5b-bd2f326eb010\",\"type\":\"BasicTicker\"}},\"id\":\"5b2f92a0-2072-4748-9b7b-9f524299e243\",\"type\":\"Grid\"},{\"attributes\":{\"plot\":{\"id\":\"69e8e6c5-76dc-4375-91ee-086f81648a4b\",\"subtype\":\"Figure\",\"type\":\"Plot\"}},\"id\":\"3b3b10c6-868c-42d2-959f-cfb4863516b0\",\"type\":\"HelpTool\"},{\"attributes\":{\"plot\":{\"id\":\"0a5a5031-9827-4f19-aba0-8a67a0c8bafa\",\"subtype\":\"Figure\",\"type\":\"Plot\"}},\"id\":\"3c659d3e-ac51-4fc7-87d5-e6e493a5f5c7\",\"type\":\"PreviewSaveTool\"},{\"attributes\":{\"axis_label\":\"MPG\",\"axis_label_text_color\":{\"value\":\"purple\"},\"formatter\":{\"id\":\"5f6474d8-d0e9-4bf6-a34e-878ba64d7ae9\",\"type\":\"BasicTickFormatter\"},\"plot\":{\"id\":\"69e8e6c5-76dc-4375-91ee-086f81648a4b\",\"subtype\":\"Figure\",\"type\":\"Plot\"},\"ticker\":{\"id\":\"462f1775-53bb-4610-ac75-fd2a203feb59\",\"type\":\"BasicTicker\"}},\"id\":\"741e7abc-ee86-4ba7-a09e-007515517d85\",\"type\":\"LinearAxis\"},{\"attributes\":{\"bottom_units\":\"screen\",\"fill_alpha\":{\"value\":0.5},\"fill_color\":{\"value\":\"lightgrey\"},\"left_units\":\"screen\",\"level\":\"overlay\",\"line_alpha\":{\"value\":1.0},\"line_color\":{\"value\":\"black\"},\"line_dash\":[4,4],\"line_width\":{\"value\":2},\"plot\":null,\"render_mode\":\"css\",\"right_units\":\"screen\",\"top_units\":\"screen\"},\"id\":\"f4c47abe-9fc1-4841-9f87-00f75cce7066\",\"type\":\"BoxAnnotation\"},{\"attributes\":{\"plot\":{\"id\":\"e3d322bd-d15a-44bd-a533-abe9bd06f15d\",\"subtype\":\"Figure\",\"type\":\"Plot\"}},\"id\":\"747f31a7-834b-4501-9936-5fb9770707b5\",\"type\":\"PreviewSaveTool\"},{\"attributes\":{},\"id\":\"a0d97961-bb67-4aa8-8a69-0022c671caf8\",\"type\":\"BasicTicker\"},{\"attributes\":{\"below\":[{\"id\":\"343acb64-808e-4cf4-9401-54ff1384e15c\",\"type\":\"LinearAxis\"}],\"left\":[{\"id\":\"e7340051-a69e-487f-a8a4-d3db1a31373c\",\"type\":\"LinearAxis\"}],\"plot_height\":500,\"plot_width\":800,\"renderers\":[{\"id\":\"343acb64-808e-4cf4-9401-54ff1384e15c\",\"type\":\"LinearAxis\"},{\"id\":\"d57c47ee-aef5-408a-a189-ee728babdb82\",\"type\":\"Grid\"},{\"id\":\"e7340051-a69e-487f-a8a4-d3db1a31373c\",\"type\":\"LinearAxis\"},{\"id\":\"5b2f92a0-2072-4748-9b7b-9f524299e243\",\"type\":\"Grid\"},{\"id\":\"eafc1791-752c-4b87-ab0c-3f8f9599eaab\",\"type\":\"BoxAnnotation\"},{\"id\":\"a87733c1-b3ad-4277-bbf8-fd9ae002b148\",\"type\":\"GlyphRenderer\"}],\"title\":\"MPG Vs. Weight\",\"tool_events\":{\"id\":\"272b1d7d-48eb-4c70-9b68-b77d8b5f1372\",\"type\":\"ToolEvents\"},\"tools\":[{\"id\":\"5cd91409-0eda-437e-a076-9feeb6778925\",\"type\":\"PanTool\"},{\"id\":\"38488e7c-98c2-4eb7-b88e-178be838710d\",\"type\":\"WheelZoomTool\"},{\"id\":\"1931a7dc-a4d1-4ee4-9958-44ddd9768e53\",\"type\":\"BoxZoomTool\"},{\"id\":\"3c659d3e-ac51-4fc7-87d5-e6e493a5f5c7\",\"type\":\"PreviewSaveTool\"},{\"id\":\"c656cd4d-279e-455e-9c41-24ef09fd3be8\",\"type\":\"ResizeTool\"},{\"id\":\"ab1d0a18-c958-4e88-a108-9b39964c0ce9\",\"type\":\"ResetTool\"},{\"id\":\"0becdb94-2b41-46e8-b5ff-7b6eb3e3159c\",\"type\":\"HelpTool\"}],\"x_range\":{\"id\":\"7ef65b2a-e32c-4073-b492-8f671937cf2a\",\"type\":\"DataRange1d\"},\"y_range\":{\"id\":\"3ce19c89-92d4-43fc-b4c0-b2afc08c8f6b\",\"type\":\"DataRange1d\"}},\"id\":\"0a5a5031-9827-4f19-aba0-8a67a0c8bafa\",\"subtype\":\"Figure\",\"type\":\"Plot\"},{\"attributes\":{\"plot\":{\"id\":\"e3d322bd-d15a-44bd-a533-abe9bd06f15d\",\"subtype\":\"Figure\",\"type\":\"Plot\"},\"ticker\":{\"id\":\"d9dcc456-8ca4-41dc-986c-d5046d043a9d\",\"type\":\"BasicTicker\"}},\"id\":\"f8b8f58a-f39e-4605-b15e-adc29569e81a\",\"type\":\"Grid\"},{\"attributes\":{\"plot\":{\"id\":\"b1da7a81-3b66-4268-afce-ed72ed70ec20\",\"subtype\":\"Figure\",\"type\":\"Plot\"}},\"id\":\"01af06d0-a70e-4c7e-878c-104a4c8c7cfc\",\"type\":\"HelpTool\"},{\"attributes\":{\"plot\":{\"id\":\"b1da7a81-3b66-4268-afce-ed72ed70ec20\",\"subtype\":\"Figure\",\"type\":\"Plot\"},\"ticker\":{\"id\":\"57003563-9589-4ea5-896f-8b8f60b20a3a\",\"type\":\"BasicTicker\"}},\"id\":\"9cc0f164-a7d8-4a52-9e61-8a6be5b87da4\",\"type\":\"Grid\"},{\"attributes\":{\"callback\":null},\"id\":\"3ce19c89-92d4-43fc-b4c0-b2afc08c8f6b\",\"type\":\"DataRange1d\"},{\"attributes\":{},\"id\":\"b5199618-35a3-4db9-8d5f-6cc36aeaecce\",\"type\":\"BasicTickFormatter\"},{\"attributes\":{\"plot\":{\"id\":\"69e8e6c5-76dc-4375-91ee-086f81648a4b\",\"subtype\":\"Figure\",\"type\":\"Plot\"}},\"id\":\"2dd756d0-be3b-4a1c-8377-6965bb147d88\",\"type\":\"ResetTool\"},{\"attributes\":{\"fill_alpha\":{\"value\":0.1},\"fill_color\":{\"value\":\"#1f77b4\"},\"line_alpha\":{\"value\":0.1},\"line_color\":{\"value\":\"#1f77b4\"},\"x\":{\"field\":\"x\"},\"y\":{\"field\":\"y\"}},\"id\":\"819f7917-9174-41f5-b933-176c3ac16d44\",\"type\":\"Circle\"},{\"attributes\":{\"axis_label\":\"MPG\",\"axis_label_text_color\":{\"field\":\"weight\"},\"formatter\":{\"id\":\"b5199618-35a3-4db9-8d5f-6cc36aeaecce\",\"type\":\"BasicTickFormatter\"},\"plot\":{\"id\":\"b1da7a81-3b66-4268-afce-ed72ed70ec20\",\"subtype\":\"Figure\",\"type\":\"Plot\"},\"ticker\":{\"id\":\"57003563-9589-4ea5-896f-8b8f60b20a3a\",\"type\":\"BasicTicker\"}},\"id\":\"08823f84-1336-4941-9ed5-dfb5d6e251c5\",\"type\":\"LinearAxis\"},{\"attributes\":{\"data_source\":{\"id\":\"890d592a-8cc9-4bd8-93ec-1296c587f84e\",\"type\":\"ColumnDataSource\"},\"glyph\":{\"id\":\"b24946d4-0dd0-49d4-96f4-8a6a35912a93\",\"type\":\"Circle\"},\"hover_glyph\":null,\"nonselection_glyph\":{\"id\":\"fe8cf609-c14e-4eff-9569-3b870ba07643\",\"type\":\"Circle\"},\"selection_glyph\":null},\"id\":\"5b929a53-7512-495d-91fb-0e1e829a5d04\",\"type\":\"GlyphRenderer\"},{\"attributes\":{\"bottom_units\":\"screen\",\"fill_alpha\":{\"value\":0.5},\"fill_color\":{\"value\":\"lightgrey\"},\"left_units\":\"screen\",\"level\":\"overlay\",\"line_alpha\":{\"value\":1.0},\"line_color\":{\"value\":\"black\"},\"line_dash\":[4,4],\"line_width\":{\"value\":2},\"plot\":null,\"render_mode\":\"css\",\"right_units\":\"screen\",\"top_units\":\"screen\"},\"id\":\"ac80eacc-f921-4ffa-a93d-ec1e28e2de75\",\"type\":\"BoxAnnotation\"}],\"root_ids\":[\"b1da7a81-3b66-4268-afce-ed72ed70ec20\",\"0a5a5031-9827-4f19-aba0-8a67a0c8bafa\",\"e3d322bd-d15a-44bd-a533-abe9bd06f15d\",\"69e8e6c5-76dc-4375-91ee-086f81648a4b\",\"adaf4f19-c905-4d73-a31c-a55d21d6ddb5\"]},\"title\":\"Bokeh Application\",\"version\":\"0.11.1\"}};\n",
       "            var render_items = [{\"docid\":\"cc6cc9ee-d185-4aa9-9bc3-eb17f83eb318\",\"elementid\":\"590d9abc-57bc-4265-950f-01918a6d8ff5\",\"modelid\":\"adaf4f19-c905-4d73-a31c-a55d21d6ddb5\",\"notebook_comms_target\":\"fb50bfae-a95a-4b80-862e-3f56b76cf853\"}];\n",
       "            \n",
       "            Bokeh.embed.embed_items(docs_json, render_items);\n",
       "        });\n",
       "      },\n",
       "      function(Bokeh) {\n",
       "      }\n",
       "    ];\n",
       "  \n",
       "    function run_inline_js() {\n",
       "      for (var i = 0; i < inline_js.length; i++) {\n",
       "        inline_js[i](window.Bokeh);\n",
       "      }\n",
       "    }\n",
       "  \n",
       "    if (window._bokeh_is_loading === 0) {\n",
       "      console.log(\"Bokeh: BokehJS loaded, going straight to plotting\");\n",
       "      run_inline_js();\n",
       "    } else {\n",
       "      load_libs(js_urls, function() {\n",
       "        console.log(\"Bokeh: BokehJS plotting callback run at\", now());\n",
       "        run_inline_js();\n",
       "      });\n",
       "    }\n",
       "  }(this));\n",
       "</script>"
      ]
     },
     "metadata": {},
     "output_type": "display_data"
    },
    {
     "data": {
      "text/html": [
       "<p><code>&lt;Bokeh Notebook handle for <strong>In[4]</strong>&gt;</code></p>"
      ],
      "text/plain": [
       "<bokeh.io._CommsHandle at 0x7fd3f8895cd0>"
      ]
     },
     "execution_count": 4,
     "metadata": {},
     "output_type": "execute_result"
    }
   ],
   "source": [
    "from bokeh.models.widgets import Panel, Tabs\n",
    "from bokeh.io import show, output_notebook\n",
    "from bokeh.plotting import figure\n",
    "import urllib2\n",
    "\n",
    "output_notebook()\n",
    "data = urllib2.urlopen(\"http://archive.ics.uci.edu/ml/machine-learning-databases/auto-mpg/auto-mpg.data-original\")\n",
    "\n",
    "#building the arrays used to scatter plotting\n",
    "MPGList = []\n",
    "horsepowerList =[]\n",
    "weightList = []\n",
    "carsList = data.readlines()\n",
    "\n",
    "\n",
    "#populating said arrays with revelant data\n",
    "#for a given split line that is already space-delimited,\n",
    "#index 0 is the MPG, index 3 is horsepower and index 4 is weight\n",
    "for x in range(len(carsList)):\n",
    "    command = carsList[x].split() #takes a line, and breaks it into a list of single words\n",
    "    #must filter out NA data\n",
    "    if command[0].isalpha() != True and command[3].isalpha() != True and command[4].isalpha() != True :\n",
    "        MPGList.append(float(command[0]))\n",
    "        horsepowerList.append(float(command[3]))\n",
    "        weightList.append(float(command[4]))\n",
    "        \n",
    "data.close()\n",
    "        \n",
    "\n",
    "#time for the scatter plotting our data\n",
    "#MPG and horsepower plot\n",
    "p1 = figure(plot_width=800, plot_height=500, title=\"MPG Vs. Horsepower\")\n",
    "p1.scatter(MPGList, horsepowerList, color=\"blue\")\n",
    "\n",
    "p1.xaxis.axis_label = \"MPG\"\n",
    "p1.xaxis.axis_label_text_color = \"weight\"\n",
    "\n",
    "p1.yaxis.axis_label = \"Horsepower\"\n",
    "p1.yaxis.axis_label_text_color = \"green\"\n",
    "\n",
    "\n",
    "\n",
    "#MPG and weight plot\n",
    "p2 = figure(plot_width=800, plot_height=500, title=\"MPG Vs. Weight\")\n",
    "p2.scatter(MPGList, weightList, color=\"blue\")\n",
    "\n",
    "p2.xaxis.axis_label = \"MPG\"\n",
    "p2.xaxis.axis_label_text_color = \"purple\"\n",
    "\n",
    "p2.yaxis.axis_label = \"Weight\"\n",
    "p2.yaxis.axis_label_text_color = \"green\"\n",
    "\n",
    "#other work needed to display\n",
    "#read: not sure why or how this works\n",
    "tab1 = Panel(child=p1, title=\"Horsepower Plot\")\n",
    "tab2 = Panel(child=p2, title=\"Weight Plot\")\n",
    "tabs = Tabs(tabs=[ tab1, tab2 ])\n",
    "show(tabs)\n",
    "\n",
    "\n"
   ]
  },
  {
   "cell_type": "code",
   "execution_count": null,
   "metadata": {
    "collapsed": true
   },
   "outputs": [],
   "source": []
  }
 ],
 "metadata": {
  "kernelspec": {
   "display_name": "Python 2",
   "language": "python",
   "name": "python2"
  },
  "language_info": {
   "codemirror_mode": {
    "name": "ipython",
    "version": 2
   },
   "file_extension": ".py",
   "mimetype": "text/x-python",
   "name": "python",
   "nbconvert_exporter": "python",
   "pygments_lexer": "ipython2",
   "version": "2.7.11"
  }
 },
 "nbformat": 4,
 "nbformat_minor": 0
}
