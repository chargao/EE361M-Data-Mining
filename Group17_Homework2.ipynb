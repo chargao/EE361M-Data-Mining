{
 "cells": [
  {
   "cell_type": "markdown",
   "metadata": {},
   "source": [
    "## EE-361M Introduction to Data Mining\n",
    "## Assignment #2\n",
    "## Due: Thursday, Feb 18, 2016 by 2pm; Total points: 50\n",
    "\n",
    "\n",
    "Your homework should be written in a **Jupyter notebook** (if this isn't possible, let me know). Please use this naming format for your notebook you submit: **Group(Group Num)_HW(HW Number).ipynb**. For example, Group1_HW1.ipynb. Homeworks are due at the beginning of class on the due date and should be submitted through Canvas in your **groups of 3 from the first homework**. If groups need to be adjusted please contact the TA."
   ]
  },
  {
   "cell_type": "code",
   "execution_count": 119,
   "metadata": {
    "collapsed": true
   },
   "outputs": [],
   "source": [
    "#Imports\n",
    "import requests\n",
    "from bs4 import BeautifulSoup\n",
    "from collections import defaultdict\n",
    "from collections import Counter\n",
    "import pandas as pd\n",
    "import numpy as np\n",
    "import matplotlib.pyplot as plt\n",
    "import operator\n",
    "from __future__ import division\n",
    "\n",
    "%matplotlib inline"
   ]
  },
  {
   "cell_type": "markdown",
   "metadata": {
    "collapsed": true
   },
   "source": [
    "## Question 1: Sampling\n",
    "### 10 points\n",
    "\n",
    "1. CBS has come up with an extreme TV show, and each of its viewers either likes or hates it. (no middle ground here; we are in a 'black and white age'). CBS wants to estimate what fraction $p$ of its audience like the show by 'randomly' calling $n$ viewers and tallying their responses so as to estimate the true value of $p$ to a fractional  accuracy of within $\\pm \\epsilon$%, with a confidence of $(1-\\alpha) \\times 100$%. For $\\alpha =  0.1$, $\\epsilon = 0.02$ (i.e. your answer will be $\\hat{p} \\pm 0.02$), what is the minimum value of $n$ needed if (i) true value $p = 0.5$ and (ii) $p = 0.95$? \n",
    "%(First try to do this yourself knowing that you have a binomial distribution, which can be approximated by a normal distribution. If you cannot, consult an undergrad stats book.)\n",
    "2. Suppose for a certain value  of $p$ and choice of $\\epsilon$, you calculate that you will need (at least) 1000 samples for $\\alpha = 0.1$. You now decide to obtain  a more accurate answer by either (i) reducing $\\alpha$ to 0.05, keeping the same $\\epsilon$ or by (ii) reducing $\\epsilon$ by a factor of 2 from the original value, but maintaining  $\\alpha = 0.1$.  In each case how many samples would you need now?"
   ]
  },
  {
   "cell_type": "markdown",
   "metadata": {},
   "source": [
    "## Question 2: Republican Presidental Debate\n",
    "### 10 points\n",
    "\n",
    "In this question we will be analyzing text data from one of the recent presidental debates. I have included code below to grab the data for you from the New York Times.\n",
    "\n",
    "1. Create a set of the frequency of utterance of  all the distinct words spoken by candidates, and then use it to create a histogram (with 30 bins) of word counts. Thus a bin is a range of count values and the corresponding \"y\" value is the number of words whose count falls in this range. What is interesting about this distribution? What are the 10 most common words?\n",
    "2. Remove the 100 most common words from vocabulary. Meaning that if you ever see this word, get rid of it. Now create a new python dictionary for each candidate that is a single list of all the words spoken by this candidate (ignoring these most common words). What are the 10 most common words for Trump, Rubio, and Cruz? How do their words differ?\n",
    "3. Using our dictionary from number 2, how many words did each speaker speak? Who spoke the most? Who is the outlier?\n",
    "4. Count the percentage of time each person uses the words (I, I'm, me, mine). When doing this convert all words to lower case. Create a bar plot of this percentage for each candidate with bars from largest to smallest. Use dictionary that has all words (doesn't exclude most common). What does the plot show?\n",
    "\n",
    "Hints:\n",
    "1. Look at python Counter.\n",
    "2. Just split text on a space. This isn't perfect, but will be fine."
   ]
  },
  {
   "cell_type": "code",
   "execution_count": 120,
   "metadata": {
    "collapsed": false
   },
   "outputs": [],
   "source": [
    "url = 'http://www.nytimes.com/2015/11/11/us/politics/transcript-republican-presidential-debate.html'\n",
    "# requests gets the source code from the url and extracts it as text\n",
    "html = requests.get(url).text\n",
    "# beautifulsoup is a library that takes in text source code and returns a structured format of that\n",
    "# source code that you can more easily search and parse.\n",
    "soup = BeautifulSoup(html, 'html5lib')\n",
    "# get all the 'p' tags from the source with class = 'story-body-text'\n",
    "# this was determined by looking at the source code\n",
    "# the first and last paragraphs are intro and ending\n",
    "paragraphs = soup('p', {'class': 'story-body-text'})[1:-1]\n",
    "candidates = ['BUSH', 'TRUMP', 'RUBIO', 'CARSON', 'FIORINA', 'KASICH', 'CRUZ', 'PAUL']\n",
    "def text_to_dict(paragraph_array):\n",
    "    '''takes an array of text paragraphs from debate and returns dict \n",
    "    where key is person and value is list of text spoken by that candidate'''\n",
    "    # dict is like a hash map. defaultdict lets you specify what types of values will be in your hash map\n",
    "    d = defaultdict(list)\n",
    "    # just a default speaker that won't end up in our returned data\n",
    "    # will get replaced when an actual speaker is found\n",
    "    speaker = \"<START>\"\n",
    "    for paragraph in paragraph_array:\n",
    "        words = paragraph.text.split(' ')\n",
    "        for word in words: #this doesn't seem to work\n",
    "            if word.endswith(\".\") or word.endswith(\",\"):\n",
    "                word=word[:-1]\n",
    "        first_word = words[0] # only new speaker when have SPEAKER: format\n",
    "        if first_word[-1] == \":\":\n",
    "            speaker = first_word[:-1]\n",
    "        \n",
    "        if speaker in candidates: # only keep candidates text\n",
    "            d[speaker].append(words[1:])\n",
    "    return d\n",
    "\n",
    "\n",
    "speaker_dict = text_to_dict(paragraphs)"
   ]
  },
  {
   "cell_type": "code",
   "execution_count": 121,
   "metadata": {
    "collapsed": false
   },
   "outputs": [
    {
     "name": "stdout",
     "output_type": "stream",
     "text": [
      "10 Most common words are:\n",
      "the:\t775\n",
      "to:\t508\n",
      "a:\t365\n",
      "of:\t360\n",
      "and:\t352\n",
      "we:\t267\n",
      "that:\t261\n",
      "is:\t258\n",
      "in:\t254\n",
      "I:\t232\n",
      "\n",
      "The interesting thing about the data is that 20 or so words that occur with high frequency, and the vast\n",
      "majority of words occur less than 100 times in the whole dataset, decaying sharply and exponentially.\n",
      "When examining the data, it becomes clear that common English words such as \"the\" and \"to\" occur at a much \n",
      "higher frequency than most other words.\n"
     ]
    },
    {
     "data": {
      "image/png": "[encoded data removed]",
      "text/plain": [
       "<matplotlib.figure.Figure at 0xde25ba8>"
      ]
     },
     "metadata": {},
     "output_type": "display_data"
    }
   ],
   "source": [
    "#part 1\n",
    "#Create a set of the frequency of utterance of all the distinct words spoken by candidates, and then use it to \n",
    "#create a histogram (with 30 bins) of word counts. Thus a bin is a range of count values and the corresponding \n",
    "#\"y\" value is the number of words whose count falls in this range. What is interesting about this distribution? \n",
    "#What are the 10 most common words?\n",
    "word_array = []\n",
    "\n",
    "for person in speaker_dict:\n",
    "    for paragraph in speaker_dict[person]:\n",
    "        for word in paragraph:\n",
    "            word_array.append(word)\n",
    "\n",
    "c = Counter(word_array)\n",
    "c30 = c.most_common(30)\n",
    "dict30={}\n",
    "for k,v in c30:\n",
    "    dict30[k]=v;\n",
    "s = pd.Series(dict30)\n",
    "s.plot(kind=\"bar\", figsize=(15, 5))\n",
    "\n",
    "print \"10 Most common words are:\"\n",
    "c10 = c.most_common(10)\n",
    "for word, count in c.most_common(10):\n",
    "    print '%s:\\t%d' % (word, count)\n",
    "    \n",
    "print \"\"\"\\nThe interesting thing about the data is that 20 or so words that occur with high frequency, and the vast\n",
    "majority of words occur less than 100 times in the whole dataset, decaying sharply and exponentially.\n",
    "When examining the data, it becomes clear that common English words such as \"the\" and \"to\" occur at a much \n",
    "higher frequency than most other words.\"\"\""
   ]
  },
  {
   "cell_type": "code",
   "execution_count": 136,
   "metadata": {
    "collapsed": false
   },
   "outputs": [
    {
     "name": "stdout",
     "output_type": "stream",
     "text": [
      "Trump:\n",
      "21\tcountry\n",
      "9\tever\n",
      "9\tcome\n",
      "9\tin\n",
      "6\ttell\n",
      "6\tbetter\n",
      "6\tdeals\n",
      "6\tnobody\n",
      "6\tcountries\n",
      "6\tjobs\n",
      "\n",
      "Rubio:\n",
      "12\tworld\n",
      "11\tcentury\n",
      "10\tever\n",
      "9\tjob\n",
      "9\timportant\n",
      "8\tnew\n",
      "8\teconomy\n",
      "7\t21st\n",
      "7\tAmerica\n",
      "7\tmost\n",
      "\n",
      "Cruz:\n",
      "11\tWashington\n",
      "9\twhich\n",
      "9\teconomic\n",
      "9\tbusiness\n",
      "8\ttax\n",
      "8\tIRS\n",
      "8\tgrowth\n",
      "7\tthat\n",
      "7\tplan\n",
      "7\ther\n",
      "\n",
      "Trump talks a lot about people (presumably foreigners and aliens) coming into the country. Rubio\n",
      "focuses more on economy and apparently likes the phrase \"21st century\".  Cruz has a lot to say about taxes.\n"
     ]
    }
   ],
   "source": [
    "#part 2\n",
    "#Remove the 100 most common words from vocabulary. Meaning that if you ever see this word, get rid of it. \n",
    "#Now create a new python dictionary for each candidate that is a single list of all the words spoken by this \n",
    "#candidate (ignoring these most common words). What are the 10 most common words for Trump, Rubio, and Cruz? \n",
    "#How do their words differ?\n",
    "\n",
    "c2 = Counter(word_array) #removing top 100\n",
    "c100most = c2.most_common(100)\n",
    "for k,v in c100most:\n",
    "    if k in c2:\n",
    "        del c2[k]\n",
    "\n",
    "new_speaker_dict=defaultdict(list)\n",
    "for person in speaker_dict:\n",
    "    for paragraph in speaker_dict[person]:\n",
    "        for word in paragraph:\n",
    "            if c2[word] != 0:\n",
    "                if word.endswith(\".\") or word.endswith(\",\"): #removing some punctuation\n",
    "                    word=word[:-1]\n",
    "                new_speaker_dict[person].append(word)\n",
    "\n",
    "trumpcount = Counter(new_speaker_dict[u'TRUMP'])\n",
    "rubiocount = Counter(new_speaker_dict[u'RUBIO'])\n",
    "cruzcount  = Counter(new_speaker_dict[u'CRUZ'])\n",
    "print \"Trump:\"\n",
    "for word, count in trumpcount.most_common(10): print '%d\\t%s' % (count, word)\n",
    "    \n",
    "print \"\\nRubio:\"\n",
    "for word, count in rubiocount.most_common(10): print '%d\\t%s' % (count, word)\n",
    "    \n",
    "print \"\\nCruz:\"\n",
    "for word, count in cruzcount.most_common(10):  print '%d\\t%s' % (count, word)\n",
    "\n",
    "print \"\"\"\\nTrump talks a lot about people (presumably foreigners and aliens) coming into the country. Rubio\n",
    "focuses more on economy and apparently likes the phrase \"21st century\".  Cruz has a lot to say about taxes.\"\"\""
   ]
  },
  {
   "cell_type": "code",
   "execution_count": 123,
   "metadata": {
    "collapsed": false
   },
   "outputs": [
    {
     "name": "stdout",
     "output_type": "stream",
     "text": [
      "TRUMP\twordcount:\t984\n",
      "RUBIO\twordcount:\t1124\n",
      "CARSON\twordcount:\t679\n",
      "FIORINA\twordcount:\t1000\n",
      "BUSH\twordcount:\t972\n",
      "KASICH\twordcount:\t1099\n",
      "CRUZ\twordcount:\t1131\n",
      "PAUL\twordcount:\t828\n",
      "\n",
      "Cruz is the most verbose, narrowly beating Rubio 1131 to 1124. Most candidates spoke around 1000 words,\n",
      "with the exception of Carson, who came in at a terse 679 words. \n"
     ]
    }
   ],
   "source": [
    "#part 3\n",
    "#Using our dictionary from number 2, how many words did each speaker speak? Who spoke the most? Who is the outlier?\n",
    "for speaker in new_speaker_dict:\n",
    "    print '%s\\twordcount:\\t%d' % (speaker, len(new_speaker_dict[speaker]))\n",
    "    \n",
    "print \"\"\"\\nCruz is the most verbose, narrowly beating Rubio 1131 to 1124. Most candidates spoke around 1000 words,\n",
    "with the exception of Carson, who came in at a terse 679 words. \"\"\""
   ]
  },
  {
   "cell_type": "code",
   "execution_count": 140,
   "metadata": {
    "collapsed": false
   },
   "outputs": [
    {
     "name": "stdout",
     "output_type": "stream",
     "text": [
      "TRUMP's possessive usage percentage:\t2.625182%\n",
      "RUBIO's possessive usage percentage:\t1.410859%\n",
      "CARSON's possessive usage percentage:\t2.415144%\n",
      "FIORINA's possessive usage percentage:\t1.755292%\n",
      "BUSH's possessive usage percentage:\t0.883117%\n",
      "KASICH's possessive usage percentage:\t2.567394%\n",
      "CRUZ's possessive usage percentage:\t1.196503%\n",
      "PAUL's possessive usage percentage:\t1.991798%\n",
      "\n",
      "There was a clustering at around 2.5% (Trump, Kasich, Carson) but was otherwise somewhat evenly\n",
      "distributed throughout 0.88% to 2.5%\n"
     ]
    },
    {
     "data": {
      "image/png": "[encoded data removed]",
      "text/plain": [
       "<matplotlib.figure.Figure at 0x14f2aac8>"
      ]
     },
     "metadata": {},
     "output_type": "display_data"
    }
   ],
   "source": [
    "#part 4\n",
    "#Count the percentage of time each person uses the words (I, I'm, me, mine). When doing this convert all words \n",
    "#to lower case. Create a bar plot of this percentage for each candidate with bars from largest to smallest. Use \n",
    "#dictionary that has all words (doesn't exclude most common). What does the plot show?\n",
    "\n",
    "new_new_speaker_dict=defaultdict(list)\n",
    "for person in speaker_dict:\n",
    "    for paragraph in speaker_dict[person]:\n",
    "        for word in paragraph:\n",
    "            if word.endswith(\".\") or word.endswith(\",\"): #removing some punctuation\n",
    "                word=word[:-1]\n",
    "            new_new_speaker_dict[person].append(word.lower())\n",
    "\n",
    "first_person_dict = {}\n",
    "for speaker in new_new_speaker_dict:\n",
    "    c = Counter(new_new_speaker_dict[speaker])\n",
    "    wordcount = len(new_new_speaker_dict[speaker])\n",
    "    first_person_sum = c[\"i\"] + c[u\"i’m\"] + c[\"me\"] + c[\"mine\"]\n",
    "    percentage = 100*(first_person_sum / wordcount)\n",
    "    print \"%s's possessive usage percentage:\\t%f%%\" % (speaker, percentage)\n",
    "    first_person_dict[speaker] = percentage\n",
    "\n",
    "s2 = pd.Series(first_person_dict)\n",
    "s2.plot(kind=\"bar\", figsize=(10, 5))\n",
    "\n",
    "print \"\"\"\\nThere was a clustering at around 2.5% (Trump, Kasich, Carson) but was otherwise somewhat evenly\n",
    "distributed throughout 0.88% to 2.5%\"\"\""
   ]
  },
  {
   "cell_type": "markdown",
   "metadata": {},
   "source": [
    "## Queston 3: Principal Component Analysis\n",
    "### 15 points\n",
    "\n",
    "In this question, you will explore an application of PCA.\n",
    "\n",
    "1. Convert your data from 3.2 to a vectorized format. This means you will have a row for each candidate and a column for each word in your data. A column for a candidate will contain the number of times that candidate used that word. Use [CountVectorizer](http://scikit-learn.org/stable/modules/feature_extraction.html) from sklearn with min_df = 1.\n",
    "2. Convert your data from a sparse matrix to a dense array using .toarray() and then scale it to have mean zero and standard deviation of 1. See [here](http://scikit-learn.org/stable/modules/preprocessing.html) for help.\n",
    "2. Plot the explained variance as a function of the number of PCA components (called a scree plot). Use sklearn's PCA functionality to do this.\n",
    "3. Now pick the top two principal components and project the data onto the respective dimensions. Visualize the data in a scatter plot and label each point with the candidate's name. Who are the outliers? Use sklearn and matplotlib for this. \n",
    "4.  In what sense is PCA an optimal feature extraction technique? Describe a situation where you would prefer feature selection to (linear) feature extraction, even though the former  is a special case of the latter."
   ]
  },
  {
   "cell_type": "markdown",
   "metadata": {},
   "source": [
    "## Question 4: Robust Regression\n",
    "### 5 points\n",
    "\n",
    "In this question we will be exploring using a regression technique that is more robust to outliers. I provide some code below that injects outlier points into the original medv and lstat data from the housing dataset. This problem looks into how robust regression can help in the presence of outliers.\n",
    "\n",
    "1. Using the original data, plot lstat on the x-axis and log(medv) on the y-axis of a scatter plot with the line of best fit from a linear regression on the plot as well. Do the same, but with the data that includes the outlier values. What changes with the best fit line? Specifically, how does the slope change?\n",
    "2. Now run a linear regression with a Huber loss on the data including the outliers and create the same plot as above, but this time with the fit from the Huber loss regression (using all the data). What has changed (comment on the slope as well)? Note: Use SGDRegressor from sklearn with 500 iterations and no penalty.\n",
    "3. Explain why the huber loss is more robust to outliers.\n",
    "\n",
    "Note:  Use plot's with xlim = (-5, 40) and ylim = (1, 5). These set the range for the x any y axes."
   ]
  },
  {
   "cell_type": "code",
   "execution_count": 125,
   "metadata": {
    "collapsed": false
   },
   "outputs": [],
   "source": [
    "import pandas as pd\n",
    "import numpy as np\n",
    "\n",
    "housing_data = pd.read_csv(\"https://archive.ics.uci.edu/ml/machine-learning-databases/housing/housing.data\",\n",
    "                   delim_whitespace=True, header=None,\n",
    "                   names = ['CRIM', 'ZN', 'INDUS', 'CHAS', 'NOX', 'RM', 'AGE', 'DIS', 'RAD', 'TAX', 'PTRATIO',\n",
    "                           'B', 'LSTAT', 'MEDV'])\n",
    "housing_data = housing_data.dropna()\n",
    "lstat = housing_data.LSTAT.values\n",
    "medv = housing_data.MEDV.values\n",
    "medv_std = np.std(medv)\n",
    "lstat_std = np.std(lstat)\n",
    "np.random.seed(42)\n",
    "medv_outliers = np.random.normal(1, 1, 5)\n",
    "lstat_outliers = np.random.normal(1, 1, 5)\n",
    "medv_with_outliers = np.append(medv, medv_outliers)\n",
    "lstat_with_outliers = np.append(lstat, lstat_outliers)"
   ]
  },
  {
   "cell_type": "markdown",
   "metadata": {},
   "source": [
    "# Question 5: Visualization using Bokeh\n",
    "## 10 points\n",
    "\n",
    "In this problem, you'll build an interactive visualization. Bokeh is a Python interactive visualization library that targets modern web browsers for presentation. For more information on Bokeh, see http://bokeh.pydata.org/en/latest/. The problem statement is as follows:\n",
    "\n",
    "Using the [auto-mpg](http://archive.ics.uci.edu/ml/machine-learning-databases/auto-mpg/auto-mpg.data-original) data, your goal is to build a Bokeh visualization which allows the user explore how MPG varies with horsepower and weight. You will create a visualization that allows the user to toggle the Y axis of a scatter plot between horsepower and weight. With the x-axis always being MPG.\n",
    "\n",
    "Hints: \n",
    "1. You can make use of Select widgets.\n",
    "2. See: http://bokeh.pydata.org/en/latest/docs/user_guide/interaction.html#javascript-callbacks. Specifically look at the CustomJS for Widgets under Callbacks and the Select widget. \n",
    "3. See: http://bokeh.pydata.org/en/latest/docs/reference/plotting.html. Look for the scatter API.\n",
    "4. See: http://bokeh.pydata.org/en/0.10.0/docs/user_guide/styling.html#labels. For labeling axes.\n",
    "5. Use output_notebook() from Bokeh to output the plot to your notebook\n",
    "\n",
    "We have made available a sample screenshot of our Bokeh app that supports the above requirements. Your interface should look similar to the screenshots."
   ]
  },
  {
   "cell_type": "code",
   "execution_count": 126,
   "metadata": {
    "collapsed": false,
    "scrolled": true
   },
   "outputs": [
    {
     "data": {
      "text/html": [
       "<div>\n",
       "<table border=\"1\" class=\"dataframe\">\n",
       "  <thead>\n",
       "    <tr style=\"text-align: right;\">\n",
       "      <th></th>\n",
       "      <th>18.0   8.   307.0      130.0      3504.      12.0   70.  1.</th>\n",
       "      <th>chevrolet chevelle malibu</th>\n",
       "    </tr>\n",
       "  </thead>\n",
       "  <tbody>\n",
       "    <tr>\n",
       "      <th>0</th>\n",
       "      <td>15.0   8.   350.0      165.0      3693.      1...</td>\n",
       "      <td>buick skylark 320</td>\n",
       "    </tr>\n",
       "    <tr>\n",
       "      <th>1</th>\n",
       "      <td>18.0   8.   318.0      150.0      3436.      1...</td>\n",
       "      <td>plymouth satellite</td>\n",
       "    </tr>\n",
       "    <tr>\n",
       "      <th>2</th>\n",
       "      <td>16.0   8.   304.0      150.0      3433.      1...</td>\n",
       "      <td>amc rebel sst</td>\n",
       "    </tr>\n",
       "    <tr>\n",
       "      <th>3</th>\n",
       "      <td>17.0   8.   302.0      140.0      3449.      1...</td>\n",
       "      <td>ford torino</td>\n",
       "    </tr>\n",
       "    <tr>\n",
       "      <th>4</th>\n",
       "      <td>15.0   8.   429.0      198.0      4341.      1...</td>\n",
       "      <td>ford galaxie 500</td>\n",
       "    </tr>\n",
       "  </tbody>\n",
       "</table>\n",
       "</div>"
      ],
      "text/plain": [
       "  18.0   8.   307.0      130.0      3504.      12.0   70.  1.  \\\n",
       "0  15.0   8.   350.0      165.0      3693.      1...            \n",
       "1  18.0   8.   318.0      150.0      3436.      1...            \n",
       "2  16.0   8.   304.0      150.0      3433.      1...            \n",
       "3  17.0   8.   302.0      140.0      3449.      1...            \n",
       "4  15.0   8.   429.0      198.0      4341.      1...            \n",
       "\n",
       "  chevrolet chevelle malibu  \n",
       "0         buick skylark 320  \n",
       "1        plymouth satellite  \n",
       "2             amc rebel sst  \n",
       "3               ford torino  \n",
       "4          ford galaxie 500  "
      ]
     },
     "execution_count": 126,
     "metadata": {},
     "output_type": "execute_result"
    }
   ],
   "source": [
    "from bokeh.models.widgets import Panel, Tabs\n",
    "from bokeh.io import show, output_notebook\n",
    "from bokeh.plotting import figure\n",
    "import pandas as pd\n",
    "\n",
    "data = pd.read_table(\"auto-mpg.data-original.txt\")\n",
    "data.head()\n",
    "\n",
    "#output_notebook()\n",
    "\n",
    "#p1 = figure(plot_width=300, plot_height=300)\n",
    "#p1.circle([1, 2, 3, 4, 5], [6, 7, 2, 4, 5], size=20, color=\"navy\", alpha=0.5)\n",
    "#tab1 = Panel(child=p1, title=\"circle\")\n",
    "\n",
    "#p2 = figure(plot_width=300, plot_height=300)\n",
    "#p2.line([1, 2, 3, 4, 5], [6, 7, 2, 4, 5], line_width=3, color=\"navy\", alpha=0.5)\n",
    "#tab2 = Panel(child=p2, title=\"line\")\n",
    "\n",
    "#tabs = Tabs(tabs=[ tab1, tab2 ])\n",
    "\n",
    "#show(tabs)\n",
    "\n",
    "\n"
   ]
  },
  {
   "cell_type": "code",
   "execution_count": null,
   "metadata": {
    "collapsed": true
   },
   "outputs": [],
   "source": []
  }
 ],
 "metadata": {
  "kernelspec": {
   "display_name": "Python 2",
   "language": "python",
   "name": "python2"
  },
  "language_info": {
   "codemirror_mode": {
    "name": "ipython",
    "version": 2
   },
   "file_extension": ".py",
   "mimetype": "text/x-python",
   "name": "python",
   "nbconvert_exporter": "python",
   "pygments_lexer": "ipython2",
   "version": "2.7.11"
  }
 },
 "nbformat": 4,
 "nbformat_minor": 0
}
