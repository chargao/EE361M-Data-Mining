{
 "cells": [
  {
   "cell_type": "markdown",
   "metadata": {},
   "source": [
    "# Homework 2\n",
    "### Charlie Gao, James Morris, Nhan Do\n",
    "\n",
    "1. **Not out yet**<br>\n",
    "    This homework is not out yet.\n",
    "    <br>\n",
    "    > *Not out yet*\n",
    "    \n",
    "2. **Not out yet**<br>\n",
    "    x<sub>i</sub> and  λ<sup>e−λx</sup> have useful HTML tags. I'm keeping them."
   ]
  },
  {
   "cell_type": "code",
   "execution_count": null,
   "metadata": {
    "collapsed": true
   },
   "outputs": [],
   "source": []
  }
 ],
 "metadata": {
  "kernelspec": {
   "display_name": "Python 2",
   "language": "python",
   "name": "python2"
  },
  "language_info": {
   "codemirror_mode": {
    "name": "ipython",
    "version": 2
   },
   "file_extension": ".py",
   "mimetype": "text/x-python",
   "name": "python",
   "nbconvert_exporter": "python",
   "pygments_lexer": "ipython2",
   "version": "2.7.11"
  }
 },
 "nbformat": 4,
 "nbformat_minor": 0
}
