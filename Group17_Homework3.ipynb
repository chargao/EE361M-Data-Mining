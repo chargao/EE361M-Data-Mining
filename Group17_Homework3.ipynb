{
 "cells": [
  {
   "cell_type": "markdown",
   "metadata": {},
   "source": [
    "## EE-361M Introduction to Data Mining\n",
    "## Assignment #3\n",
    "## Due: Thursday, Mar 4, 2016 by midnight; Total points: 50\n",
    "\n",
    "\n",
    "Your homework should be written in a **Jupyter notebook** (if this isn't possible, let me know). Please use this naming format for your notebook you submit: **Group(Group Num)_HW(HW Number).ipynb**. For example, Group1_HW1.ipynb. Homeworks should be submitted through Canvas in your **groups of 3 from the first homework**. If groups need to be adjusted please contact the TA. Also, please make sure your code runs and the graphics (and anything else) are displayed in your notebook before submitting."
   ]
  },
  {
   "cell_type": "code",
   "execution_count": 4,
   "metadata": {
    "collapsed": false
   },
   "outputs": [],
   "source": [
    "#imports\n",
    "#Please run this cell before any others\n",
    "import pandas as pd\n",
    "import numpy as np\n",
    "from sklearn.cross_validation import KFold, train_test_split, cross_val_score\n",
    "from sklearn.linear_model import Lasso, Ridge, LinearRegression\n",
    "from sklearn.metrics import mean_squared_error\n",
    "import matplotlib.pyplot as py\n",
    "%matplotlib inline"
   ]
  },
  {
   "cell_type": "markdown",
   "metadata": {
    "collapsed": true
   },
   "source": [
    "## Question 1 (2+1 = 3 points)\n",
    "\n",
    "View the video at:\n",
    "\n",
    "https://www.youtube.com/watch?v=jbkSRLYSojo\n",
    "\n",
    "(Hans Rosling's 200 Countries, 200 Years, 4 Minutes) and answer the following questions:\n",
    "\n",
    "1. How many variables are being visualized in the “moving bubble plots” video (list them)?\n",
    "\n",
    "2. Identify a variable that is “zoomed into”, i.e., examined at a sub-category or more detailed level.\n",
    "\n",
    "\n",
    "FACTOID: Rosling’s gapminder visualization\n",
    "\n",
    "(see https://www.youtube.com/user/Gapcast for some more insightful videos) can now be\n",
    "\n",
    "readily used by you via Google Charts: https://developers.google.com/chart/interactive/docs/gallery\n",
    "\n",
    "Just plug in your own variables into “Bubble Chart” under the URL above and go!"
   ]
  },
  {
   "cell_type": "markdown",
   "metadata": {},
   "source": [
    "### 1.\n",
    "    5. Wealth, income, time, continent, and country (more if you include the sub providences like he did in china)\n",
    "    \n",
    "### 2. \n",
    "    The country data is sometimes broken down into providences or states, like in China. Additionally, he mentions that the countries and providences have been broken down into other categories like rural vs municipal."
   ]
  },
  {
   "cell_type": "markdown",
   "metadata": {
    "collapsed": true
   },
   "source": [
    "## Question 2 (3+3+2+2=10 points)\n",
    "\n",
    "In this question, you will explore the application of Lasso and Ridge regression using sklearn package in Python. The dataset is prostate cancer data. The data can be found on canvas on the homework 3 page as prostate.csv. More information on the data can be found [here](https://cran.r-project.org/web/packages/ElemStatLearn/ElemStatLearn.pdf) under prostate. Use a random state of 42 and a test size of 1/3 to [split the data into training and test](http://scikit-learn.org/stable/modules/generated/sklearn.cross_validation.train_test_split.html). We will be using all the variables to predict lcavol. \n",
    "\n",
    "1. Use sklearn.linear_model.Lasso and sklearn.linear_model.Ridge classes to do a [5-fold cross validation](http://scikit-learn.org/stable/auto_examples/exercises/plot_cv_diabetes.html#example-exercises-plot-cv-diabetes-py) using sklearn's [KFold](http://scikit-learn.org/stable/modules/generated/sklearn.cross_validation.KFold.html). For the sweep of the regularization parameter lambda (Note: lambda is called alpha in sklearn), use [0.00001, 0.0001,0.001, 0.005, 0.01, 0.05, 0.1, 1, 5, 10, 100]  for ridge and [0.0001, 0.0005, 0.001, 0.005, 0.01, 0.05, 0.1, 0.2, 0.3, 0.4, 0.5] for lasso. Report the best chosen based on cross-validation. The cross validation should happen on your training data using  average MSE as the scoring metric.\n",
    "2. Run ridge and lasso for all of the parameters specified above (on all training data), and plot the coefficients learned for each of them - there should be one plot each for lasso and ridge, so a total of two plots; the plots for different features for a method should be on the same plot (e.g. Fig 6.6 of JW). What do you qualitatively observe when value of the regularization parameter is changed? \n",
    "3. Run least squares regression, ridge, and lasso on the full training data. For ridge and lasso, use only the best regularization parameter. Report the prediction error on the test data for each.\n",
    "4. For the best lasso parameter, determine the variables that were not dropped. Using only these variables, run least squares regression on full training data and report the prediction error on the test data.\n"
   ]
  },
  {
   "cell_type": "code",
   "execution_count": 5,
   "metadata": {
    "collapsed": false
   },
   "outputs": [],
   "source": [
    "#I request that you run the Problem 2 cells in the order they are in\n",
    "#If not, I cannot garuntee that any particular cell will work\n",
    "#Unfortunately I have coupled my design between the various cells. While I'm not fixing it this time around,\n",
    "#I will try to decouple cells next time.\n",
    "\n",
    "#Generic Init Stuff\n",
    "\n",
    "data = pd.read_csv(\"prostate.csv\")\n",
    "trainData, testData = train_test_split(data, test_size=.33, random_state=42)\n",
    "X = trainData.drop(['lcavol'], axis=1)\n",
    "y = trainData['lcavol']\n",
    "testX = testData.drop(['lcavol'], axis=1)\n",
    "truey = testData['lcavol']\n",
    "\n",
    "lassoAlphas = [0.0001, 0.0005, 0.001, 0.005, 0.01, 0.05, 0.1, 0.2, 0.3, 0.4, 0.5] \n",
    "ridgeAlphas = [0.00001, 0.0001,0.001, 0.005, 0.01, 0.05, 0.1, 1, 5, 10, 100] \n",
    "\n",
    "ridge = Ridge(copy_X=True)\n",
    "lasso = Lasso(copy_X=True)\n",
    "bestLassoScore = 100.0\n",
    "bestRidgeScore = 100.0"
   ]
  },
  {
   "cell_type": "code",
   "execution_count": 6,
   "metadata": {
    "collapsed": false
   },
   "outputs": [
    {
     "name": "stdout",
     "output_type": "stream",
     "text": [
      "Best lambda for ridge:  10  with absolute average score of:  0.552109788345\n",
      "Best lambda for lasso:  0.1  with absolute average score of:  0.560122875264\n"
     ]
    }
   ],
   "source": [
    "#Part 1\n",
    "\n",
    "kf = KFold(len(X), n_folds=5)\n",
    "for i in  range(0, len(ridgeAlphas)):\n",
    "    ridge.alpha = ridgeAlphas[i]\n",
    "    lasso.alpha = lassoAlphas[i]\n",
    "    ridgeScore = abs(np.mean((cross_val_score(ridge, X, y, scoring='mean_squared_error', cv=kf))))\n",
    "    lassoScore = abs(np.mean((cross_val_score(lasso, X, y, scoring='mean_squared_error', cv=kf))))\n",
    "    if ridgeScore < bestRidgeScore: #new better alpha found!\n",
    "        bestRidgeScore = ridgeScore\n",
    "        bestRidgeAlpha = ridgeAlphas[i]\n",
    "    if lassoScore < bestLassoScore: #new better alpha found!\n",
    "        bestLassoScore = lassoScore\n",
    "        bestLassoAlpha = lassoAlphas[i]\n",
    "\n",
    "print \"Best lambda for ridge: \", bestRidgeAlpha, \" with absolute average score of: \", bestRidgeScore\n",
    "print \"Best lambda for lasso: \", bestLassoAlpha, \" with absolute average score of: \", bestLassoScore\n",
    "\n",
    "#in the event that I got the best lambda for lasso or ridge wrong, please fix bestRidgeAlpha and bestLassoAlpha\n",
    "#respectively. The other parts of this question depend on these variables."
   ]
  },
  {
   "cell_type": "code",
   "execution_count": 7,
   "metadata": {
    "collapsed": false
   },
   "outputs": [
    {
     "name": "stdout",
     "output_type": "stream",
     "text": [
      "As lambda changes, the coefficent seems to steadily converge.\n"
     ]
    },
    {
     "data": {
      "image/png": "[encoded data removed]",
      "text/plain": [
       "<matplotlib.figure.Figure at 0x1f4ce9e8>"
      ]
     },
     "metadata": {},
     "output_type": "display_data"
    }
   ],
   "source": [
    "#Part 2\n",
    "\n",
    "#Graph Setup - making the X-axis arrays\n",
    "ridgeCoefs = list()\n",
    "lassoCoefs = list()\n",
    "for x in range(0, len(X.columns)):\n",
    "    ridgeCoefs.append(list())\n",
    "    lassoCoefs.append(list())\n",
    "    \n",
    "#Graph Setup - making figure and setting axis\n",
    "py.figure(figsize=(14,12))\n",
    "ridgePlot = py.subplot(211)\n",
    "py.xlabel(\"Lambda\")\n",
    "py.ylabel(\"Coefficients\")\n",
    "py.title(\"Ridge Regression\")\n",
    "lassoPlot = py.subplot(212)\n",
    "py.xlabel(\"Lambda\")\n",
    "py.ylabel(\"Coefficients\")\n",
    "py.title(\"Lasso Regression\")\n",
    "\n",
    "#Calculating all the revelant data points\n",
    "for i in  range(0, len(ridgeAlphas)):\n",
    "    ridge.alpha = ridgeAlphas[i]\n",
    "    lasso.alpha = lassoAlphas[i]\n",
    "    ridge.fit(X, y)\n",
    "    lasso.fit(X, y)\n",
    "    for j in range(0, len(X.columns)):\n",
    "        ridgeCoefs[j].append(ridge.coef_[j])\n",
    "        lassoCoefs[j].append(lasso.coef_[j])\n",
    "\n",
    "#Plot\n",
    "for k in range(0, len(X.columns)):\n",
    "    ridgePlot.plot(ridgeAlphas, ridgeCoefs[k], label=X.columns[k])\n",
    "    lassoPlot.plot(lassoAlphas, lassoCoefs[k], label=X.columns[k])\n",
    "ridgePlot.legend()\n",
    "lassoPlot.legend()\n",
    "\n",
    "#Answer the question\n",
    "print \"As lambda changes, the coefficent seems to steadily converge.\"\n"
   ]
  },
  {
   "cell_type": "code",
   "execution_count": 8,
   "metadata": {
    "collapsed": false
   },
   "outputs": [
    {
     "name": "stdout",
     "output_type": "stream",
     "text": [
      "Ridge Regression MSE:  0.544994235195\n",
      "Lasso Regression MSE:  0.564961986751\n",
      "Linear Regression MSE:  0.543783938173\n"
     ]
    }
   ],
   "source": [
    "#Part 3\n",
    "\n",
    "ridge2 = Ridge(alpha=bestRidgeAlpha, copy_X=True)\n",
    "lasso2 = Lasso(alpha=bestLassoAlpha, copy_X=True)\n",
    "linear = LinearRegression()\n",
    "\n",
    "ridge2.fit(X, y)\n",
    "lasso2.fit(X, y)\n",
    "linear.fit(X, y)\n",
    "\n",
    "ridgePredictions = ridge2.predict(testX)\n",
    "lassoPredictions = lasso2.predict(testX)\n",
    "linearPredictions = linear.predict(testX)\n",
    "\n",
    "\n",
    "print \"Ridge Regression MSE: \",mean_squared_error(truey, ridgePredictions)\n",
    "print \"Lasso Regression MSE: \", mean_squared_error(truey, lassoPredictions)\n",
    "print \"Linear Regression MSE: \", mean_squared_error(truey, linearPredictions)"
   ]
  },
  {
   "cell_type": "code",
   "execution_count": 9,
   "metadata": {
    "collapsed": false
   },
   "outputs": [
    {
     "name": "stdout",
     "output_type": "stream",
     "text": [
      "New Linear Regression MSE:  0.566328775677\n"
     ]
    }
   ],
   "source": [
    "#Part 4\n",
    "\n",
    "#Finding the features that were dropped by lasso, stored as column indexes in dropped\n",
    "lasso3 = Lasso(alpha=bestLassoAlpha, copy_X=True)\n",
    "lasso3.fit(X, y)\n",
    "notDroppedIndex = list()\n",
    "for i in range(0, len(lasso.coef_)):\n",
    "    if lasso.coef_[i] != 0:\n",
    "        notDroppedIndex.append(i)\n",
    "\n",
    "#Cleaning our training and test data's independent variable to get rid of all the dropped features\n",
    "notDroppedData = list()\n",
    "notDroppedTest = list()\n",
    "for i in range(0, len(notDroppedIndex)):\n",
    "    notDroppedData.append(X[X.columns[notDroppedIndex[i]]]) #taking the dropped variables out one at a time\n",
    "    notDroppedTest.append(testX[testX.columns[notDroppedIndex[i]]])\n",
    "newData = pd.concat(notDroppedData, axis=1) #combining all dropped variables into a new dataframe\n",
    "newTest = pd.concat(notDroppedTest, axis=1)\n",
    "\n",
    "#Finally, testing the new subset of features\n",
    "lineRegress = LinearRegression()\n",
    "lineRegress = lineRegress.fit(newData, y)\n",
    "lineRegressPredict = lineRegress.predict(newTest)\n",
    "print \"New Linear Regression MSE: \", mean_squared_error(truey, lineRegressPredict)"
   ]
  },
  {
   "cell_type": "markdown",
   "metadata": {},
   "source": [
    "## Question 3 (3+3+2+2 = 10 points)\n",
    "\n",
    "Re-solve all the questions in question 2 using R. You can submit the code and results via a PDF or other format. Just please make a reference to it in your notebook. See hints.R on the Canvas homework 3 page to help get you started. I would recommend using [RStudio](https://www.rstudio.com/products/rstudio/download/) for your work in R."
   ]
  },
  {
   "cell_type": "markdown",
   "metadata": {},
   "source": [
    "## Question 4 (5+5 = 10 points)\n",
    "\n",
    "1. Derive the coefficent updates, from first principles, for a gradient descent version of linear regression. Hint: start from the cost function. If you write the math by hand, submit that as a separate file and make a reference to it in your notebook or include the image in your notebook.\n",
    "2. Write Python code for a gradient descent version of linear regression. Should be similar to sklearn in that you have a fit function that takes an X, y, learning rate, and number of iterations and a predict funtion that takes an X value. Use your new SGD regression to re-run question 2.4 and compare MSE. Make sure you always normalize your X matrices and use an intercept. You can also compare your results with SGDRegressor from sklearn, but not required."
   ]
  },
  {
   "cell_type": "markdown",
   "metadata": {},
   "source": [
    "### Part 1:\n",
    "    See attached question4-1.png\n",
    "    \n",
    "### Part 2:"
   ]
  },
  {
   "cell_type": "code",
   "execution_count": 32,
   "metadata": {
    "collapsed": false
   },
   "outputs": [
    {
     "ename": "KeyError",
     "evalue": "0L",
     "output_type": "error",
     "traceback": [
      "\u001b[1;31m---------------------------------------------------------------------------\u001b[0m",
      "\u001b[1;31mKeyError\u001b[0m                                  Traceback (most recent call last)",
      "\u001b[1;32m<ipython-input-32-a30011aeb5fb>\u001b[0m in \u001b[0;36m<module>\u001b[1;34m()\u001b[0m\n\u001b[0;32m     39\u001b[0m \u001b[1;33m\u001b[0m\u001b[0m\n\u001b[0;32m     40\u001b[0m \u001b[0mgradientLin\u001b[0m \u001b[1;33m=\u001b[0m \u001b[0mgradientLinReg\u001b[0m\u001b[1;33m(\u001b[0m\u001b[1;33m)\u001b[0m\u001b[1;33m\u001b[0m\u001b[0m\n\u001b[1;32m---> 41\u001b[1;33m \u001b[0mgradientLin\u001b[0m\u001b[1;33m.\u001b[0m\u001b[0mgradientFit\u001b[0m\u001b[1;33m(\u001b[0m\u001b[0mnormalize\u001b[0m\u001b[1;33m(\u001b[0m\u001b[0mnewData\u001b[0m\u001b[1;33m[\u001b[0m\u001b[1;34m'lpsa'\u001b[0m\u001b[1;33m]\u001b[0m\u001b[1;33m.\u001b[0m\u001b[0mas_matrix\u001b[0m\u001b[1;33m(\u001b[0m\u001b[1;33m)\u001b[0m\u001b[1;33m.\u001b[0m\u001b[0mreshape\u001b[0m\u001b[1;33m(\u001b[0m\u001b[1;33m-\u001b[0m\u001b[1;36m1\u001b[0m\u001b[1;33m,\u001b[0m \u001b[1;36m1\u001b[0m\u001b[1;33m)\u001b[0m\u001b[1;33m,\u001b[0m \u001b[0maxis\u001b[0m\u001b[1;33m=\u001b[0m\u001b[1;36m1\u001b[0m\u001b[1;33m,\u001b[0m \u001b[0mnorm\u001b[0m\u001b[1;33m=\u001b[0m\u001b[1;34m'l1'\u001b[0m\u001b[1;33m)\u001b[0m\u001b[1;33m,\u001b[0m \u001b[0my\u001b[0m\u001b[1;33m,\u001b[0m \u001b[1;36m1\u001b[0m\u001b[1;33m,\u001b[0m \u001b[1;36m500\u001b[0m\u001b[1;33m)\u001b[0m\u001b[1;33m\u001b[0m\u001b[0m\n\u001b[0m\u001b[0;32m     42\u001b[0m \u001b[0mgradientP\u001b[0m \u001b[1;33m=\u001b[0m \u001b[0mgradientLin\u001b[0m\u001b[1;33m.\u001b[0m\u001b[0mgradientPredict\u001b[0m\u001b[1;33m(\u001b[0m\u001b[0mnormalize\u001b[0m\u001b[1;33m(\u001b[0m\u001b[0mnewTest\u001b[0m\u001b[1;33m[\u001b[0m\u001b[1;34m'lpsa'\u001b[0m\u001b[1;33m]\u001b[0m\u001b[1;33m.\u001b[0m\u001b[0mas_matrix\u001b[0m\u001b[1;33m(\u001b[0m\u001b[1;33m)\u001b[0m\u001b[1;33m.\u001b[0m\u001b[0mreshape\u001b[0m\u001b[1;33m(\u001b[0m\u001b[1;33m-\u001b[0m\u001b[1;36m1\u001b[0m\u001b[1;33m,\u001b[0m \u001b[1;36m1\u001b[0m\u001b[1;33m)\u001b[0m\u001b[1;33m,\u001b[0m \u001b[0maxis\u001b[0m\u001b[1;33m=\u001b[0m\u001b[1;36m1\u001b[0m\u001b[1;33m,\u001b[0m \u001b[0mnorm\u001b[0m\u001b[1;33m=\u001b[0m\u001b[1;34m'l1'\u001b[0m\u001b[1;33m)\u001b[0m\u001b[1;33m)\u001b[0m\u001b[1;33m\u001b[0m\u001b[0m\n\u001b[0;32m     43\u001b[0m \u001b[1;32mprint\u001b[0m \u001b[1;34m\"Gradient Linear Regression MSE: \"\u001b[0m\u001b[1;33m,\u001b[0m \u001b[0mmean_squared_error\u001b[0m\u001b[1;33m(\u001b[0m\u001b[0mtruey\u001b[0m\u001b[1;33m,\u001b[0m \u001b[0mgradientP\u001b[0m\u001b[1;33m)\u001b[0m\u001b[1;33m\u001b[0m\u001b[0m\n",
      "\u001b[1;32m<ipython-input-32-a30011aeb5fb>\u001b[0m in \u001b[0;36mgradientFit\u001b[1;34m(self, indep_var, dep_var, learningRate, iterations)\u001b[0m\n\u001b[0;32m     22\u001b[0m         \u001b[0mb1_current\u001b[0m \u001b[1;33m=\u001b[0m \u001b[1;36m1\u001b[0m\u001b[1;33m\u001b[0m\u001b[0m\n\u001b[0;32m     23\u001b[0m         \u001b[1;32mfor\u001b[0m \u001b[0mi\u001b[0m \u001b[1;32min\u001b[0m \u001b[0mrange\u001b[0m\u001b[1;33m(\u001b[0m\u001b[1;36m0\u001b[0m\u001b[1;33m,\u001b[0m \u001b[0miterations\u001b[0m\u001b[1;33m)\u001b[0m\u001b[1;33m:\u001b[0m\u001b[1;33m\u001b[0m\u001b[0m\n\u001b[1;32m---> 24\u001b[1;33m             \u001b[0mb0_current\u001b[0m\u001b[1;33m,\u001b[0m \u001b[0mb1_current\u001b[0m \u001b[1;33m=\u001b[0m \u001b[0mself\u001b[0m\u001b[1;33m.\u001b[0m\u001b[0mstepGradient\u001b[0m\u001b[1;33m(\u001b[0m\u001b[0mb0_current\u001b[0m\u001b[1;33m,\u001b[0m \u001b[0mb1_current\u001b[0m\u001b[1;33m,\u001b[0m \u001b[0mindep_var\u001b[0m\u001b[1;33m,\u001b[0m \u001b[0mdep_var\u001b[0m\u001b[1;33m,\u001b[0m \u001b[0mlearningRate\u001b[0m\u001b[1;33m)\u001b[0m\u001b[1;33m\u001b[0m\u001b[0m\n\u001b[0m\u001b[0;32m     25\u001b[0m         \u001b[0mself\u001b[0m\u001b[1;33m.\u001b[0m\u001b[0mb0_coef\u001b[0m \u001b[1;33m=\u001b[0m \u001b[0mb0_current\u001b[0m\u001b[1;33m\u001b[0m\u001b[0m\n\u001b[0;32m     26\u001b[0m         \u001b[0mself\u001b[0m\u001b[1;33m.\u001b[0m\u001b[0mb1_coef\u001b[0m \u001b[1;33m=\u001b[0m \u001b[0mb1_current\u001b[0m\u001b[1;33m\u001b[0m\u001b[0m\n",
      "\u001b[1;32m<ipython-input-32-a30011aeb5fb>\u001b[0m in \u001b[0;36mstepGradient\u001b[1;34m(self, b0_current, b1_current, indep_var, dep_var, learningRate)\u001b[0m\n\u001b[0;32m     12\u001b[0m         \u001b[0mN\u001b[0m \u001b[1;33m=\u001b[0m \u001b[0mfloat\u001b[0m\u001b[1;33m(\u001b[0m\u001b[0mlen\u001b[0m\u001b[1;33m(\u001b[0m\u001b[0mindep_var\u001b[0m\u001b[1;33m)\u001b[0m\u001b[1;33m)\u001b[0m\u001b[1;33m\u001b[0m\u001b[0m\n\u001b[0;32m     13\u001b[0m         \u001b[1;32mfor\u001b[0m \u001b[0mi\u001b[0m \u001b[1;32min\u001b[0m \u001b[0mrange\u001b[0m\u001b[1;33m(\u001b[0m\u001b[1;36m0\u001b[0m\u001b[1;33m,\u001b[0m \u001b[0mlen\u001b[0m\u001b[1;33m(\u001b[0m\u001b[0mindep_var\u001b[0m\u001b[1;33m)\u001b[0m\u001b[1;33m)\u001b[0m\u001b[1;33m:\u001b[0m\u001b[1;33m\u001b[0m\u001b[0m\n\u001b[1;32m---> 14\u001b[1;33m             \u001b[0mb0_gradient\u001b[0m \u001b[1;33m+=\u001b[0m \u001b[1;33m-\u001b[0m\u001b[1;33m(\u001b[0m\u001b[1;36m2\u001b[0m\u001b[1;33m/\u001b[0m\u001b[0mN\u001b[0m\u001b[1;33m)\u001b[0m \u001b[1;33m*\u001b[0m \u001b[1;33m(\u001b[0m\u001b[0mdep_var\u001b[0m\u001b[1;33m[\u001b[0m\u001b[0mi\u001b[0m\u001b[1;33m]\u001b[0m \u001b[1;33m-\u001b[0m \u001b[1;33m(\u001b[0m\u001b[1;33m(\u001b[0m\u001b[0mb1_current\u001b[0m\u001b[1;33m*\u001b[0m\u001b[0mindep_var\u001b[0m\u001b[1;33m[\u001b[0m\u001b[0mi\u001b[0m\u001b[1;33m]\u001b[0m\u001b[1;33m)\u001b[0m \u001b[1;33m+\u001b[0m \u001b[0mb0_current\u001b[0m\u001b[1;33m)\u001b[0m\u001b[1;33m)\u001b[0m\u001b[1;33m\u001b[0m\u001b[0m\n\u001b[0m\u001b[0;32m     15\u001b[0m             \u001b[0mb1_gradient\u001b[0m \u001b[1;33m+=\u001b[0m \u001b[1;33m-\u001b[0m\u001b[1;33m(\u001b[0m\u001b[1;36m2\u001b[0m\u001b[1;33m/\u001b[0m\u001b[0mN\u001b[0m\u001b[1;33m)\u001b[0m \u001b[1;33m*\u001b[0m \u001b[0mindep_var\u001b[0m\u001b[1;33m[\u001b[0m\u001b[0mi\u001b[0m\u001b[1;33m]\u001b[0m \u001b[1;33m*\u001b[0m \u001b[1;33m(\u001b[0m\u001b[0mdep_var\u001b[0m\u001b[1;33m[\u001b[0m\u001b[0mi\u001b[0m\u001b[1;33m]\u001b[0m \u001b[1;33m-\u001b[0m \u001b[1;33m(\u001b[0m\u001b[1;33m(\u001b[0m\u001b[0mb1_current\u001b[0m \u001b[1;33m*\u001b[0m \u001b[0mindep_var\u001b[0m\u001b[1;33m[\u001b[0m\u001b[0mi\u001b[0m\u001b[1;33m]\u001b[0m\u001b[1;33m)\u001b[0m \u001b[1;33m+\u001b[0m \u001b[0mb0_current\u001b[0m\u001b[1;33m)\u001b[0m\u001b[1;33m)\u001b[0m\u001b[1;33m\u001b[0m\u001b[0m\n\u001b[0;32m     16\u001b[0m         \u001b[0mnew_b0\u001b[0m \u001b[1;33m=\u001b[0m \u001b[0mb0_current\u001b[0m \u001b[1;33m-\u001b[0m \u001b[1;33m(\u001b[0m\u001b[0mlearningRate\u001b[0m \u001b[1;33m*\u001b[0m \u001b[0mb0_gradient\u001b[0m\u001b[1;33m)\u001b[0m\u001b[1;33m\u001b[0m\u001b[0m\n",
      "\u001b[1;32mC:\\Users\\eljim_000\\Anaconda2\\lib\\site-packages\\pandas\\core\\series.pyc\u001b[0m in \u001b[0;36m__getitem__\u001b[1;34m(self, key)\u001b[0m\n\u001b[0;32m    555\u001b[0m     \u001b[1;32mdef\u001b[0m \u001b[0m__getitem__\u001b[0m\u001b[1;33m(\u001b[0m\u001b[0mself\u001b[0m\u001b[1;33m,\u001b[0m \u001b[0mkey\u001b[0m\u001b[1;33m)\u001b[0m\u001b[1;33m:\u001b[0m\u001b[1;33m\u001b[0m\u001b[0m\n\u001b[0;32m    556\u001b[0m         \u001b[1;32mtry\u001b[0m\u001b[1;33m:\u001b[0m\u001b[1;33m\u001b[0m\u001b[0m\n\u001b[1;32m--> 557\u001b[1;33m             \u001b[0mresult\u001b[0m \u001b[1;33m=\u001b[0m \u001b[0mself\u001b[0m\u001b[1;33m.\u001b[0m\u001b[0mindex\u001b[0m\u001b[1;33m.\u001b[0m\u001b[0mget_value\u001b[0m\u001b[1;33m(\u001b[0m\u001b[0mself\u001b[0m\u001b[1;33m,\u001b[0m \u001b[0mkey\u001b[0m\u001b[1;33m)\u001b[0m\u001b[1;33m\u001b[0m\u001b[0m\n\u001b[0m\u001b[0;32m    558\u001b[0m \u001b[1;33m\u001b[0m\u001b[0m\n\u001b[0;32m    559\u001b[0m             \u001b[1;32mif\u001b[0m \u001b[1;32mnot\u001b[0m \u001b[0mnp\u001b[0m\u001b[1;33m.\u001b[0m\u001b[0misscalar\u001b[0m\u001b[1;33m(\u001b[0m\u001b[0mresult\u001b[0m\u001b[1;33m)\u001b[0m\u001b[1;33m:\u001b[0m\u001b[1;33m\u001b[0m\u001b[0m\n",
      "\u001b[1;32mC:\\Users\\eljim_000\\Anaconda2\\lib\\site-packages\\pandas\\core\\index.pyc\u001b[0m in \u001b[0;36mget_value\u001b[1;34m(self, series, key)\u001b[0m\n\u001b[0;32m   1788\u001b[0m \u001b[1;33m\u001b[0m\u001b[0m\n\u001b[0;32m   1789\u001b[0m         \u001b[1;32mtry\u001b[0m\u001b[1;33m:\u001b[0m\u001b[1;33m\u001b[0m\u001b[0m\n\u001b[1;32m-> 1790\u001b[1;33m             \u001b[1;32mreturn\u001b[0m \u001b[0mself\u001b[0m\u001b[1;33m.\u001b[0m\u001b[0m_engine\u001b[0m\u001b[1;33m.\u001b[0m\u001b[0mget_value\u001b[0m\u001b[1;33m(\u001b[0m\u001b[0ms\u001b[0m\u001b[1;33m,\u001b[0m \u001b[0mk\u001b[0m\u001b[1;33m)\u001b[0m\u001b[1;33m\u001b[0m\u001b[0m\n\u001b[0m\u001b[0;32m   1791\u001b[0m         \u001b[1;32mexcept\u001b[0m \u001b[0mKeyError\u001b[0m \u001b[1;32mas\u001b[0m \u001b[0me1\u001b[0m\u001b[1;33m:\u001b[0m\u001b[1;33m\u001b[0m\u001b[0m\n\u001b[0;32m   1792\u001b[0m             \u001b[1;32mif\u001b[0m \u001b[0mlen\u001b[0m\u001b[1;33m(\u001b[0m\u001b[0mself\u001b[0m\u001b[1;33m)\u001b[0m \u001b[1;33m>\u001b[0m \u001b[1;36m0\u001b[0m \u001b[1;32mand\u001b[0m \u001b[0mself\u001b[0m\u001b[1;33m.\u001b[0m\u001b[0minferred_type\u001b[0m \u001b[1;32min\u001b[0m \u001b[1;33m[\u001b[0m\u001b[1;34m'integer'\u001b[0m\u001b[1;33m,\u001b[0m\u001b[1;34m'boolean'\u001b[0m\u001b[1;33m]\u001b[0m\u001b[1;33m:\u001b[0m\u001b[1;33m\u001b[0m\u001b[0m\n",
      "\u001b[1;32mpandas\\index.pyx\u001b[0m in \u001b[0;36mpandas.index.IndexEngine.get_value (pandas\\index.c:3204)\u001b[1;34m()\u001b[0m\n",
      "\u001b[1;32mpandas\\index.pyx\u001b[0m in \u001b[0;36mpandas.index.IndexEngine.get_value (pandas\\index.c:2903)\u001b[1;34m()\u001b[0m\n",
      "\u001b[1;32mpandas\\index.pyx\u001b[0m in \u001b[0;36mpandas.index.IndexEngine.get_loc (pandas\\index.c:3843)\u001b[1;34m()\u001b[0m\n",
      "\u001b[1;32mpandas\\hashtable.pyx\u001b[0m in \u001b[0;36mpandas.hashtable.Int64HashTable.get_item (pandas\\hashtable.c:6525)\u001b[1;34m()\u001b[0m\n",
      "\u001b[1;32mpandas\\hashtable.pyx\u001b[0m in \u001b[0;36mpandas.hashtable.Int64HashTable.get_item (pandas\\hashtable.c:6463)\u001b[1;34m()\u001b[0m\n",
      "\u001b[1;31mKeyError\u001b[0m: 0L"
     ]
    }
   ],
   "source": [
    "import pylab\n",
    "from sklearn.preprocessing import normalize\n",
    "class gradientLinReg:\n",
    "    \n",
    "    def gradienLinReg(self):\n",
    "        self.b0_coef = 1\n",
    "        self.b1_coef = 1\n",
    "    \n",
    "    def stepGradient(self, b0_current, b1_current, indep_var, dep_var, learningRate):\n",
    "        b0_gradient = 0\n",
    "        b1_gradient = 0\n",
    "        N = float(len(indep_var))\n",
    "        for i in range(0, len(indep_var)):\n",
    "            b0_gradient += -(2/N) * (dep_var[i] - ((b1_current*indep_var[i]) + b0_current))\n",
    "            b1_gradient += -(2/N) * indep_var[i] * (dep_var[i] - ((b1_current * indep_var[i]) + b0_current))\n",
    "        new_b0 = b0_current - (learningRate * b0_gradient)\n",
    "        new_b1 = b1_current - (learningRate * b1_gradient)\n",
    "        return new_b0, new_b1\n",
    "\n",
    "    def gradientFit(self, indep_var, dep_var, learningRate, iterations):\n",
    "        b0_current = 1\n",
    "        b1_current = 1\n",
    "        for i in range(0, iterations):\n",
    "            b0_current, b1_current = self.stepGradient(b0_current, b1_current, indep_var, dep_var, learningRate)\n",
    "        self.b0_coef = b0_current\n",
    "        self.b1_coef = b1_current\n",
    "    \n",
    "    def gradientPredict(self, indep_var):\n",
    "        estimation = []\n",
    "        for i in range(0, len(indep_var)):\n",
    "            estimation.append(b1_coef*indep_var + b0_coef)\n",
    "        return estimation\n",
    "    \n",
    "    def getMSE(self, indep_var, dep_var):\n",
    "        mse = 0\n",
    "        for i in range(0, len(indep_var)):\n",
    "            mse += ((1/N) * ((dep_var[i] - ((self.b1_coef*indep_var[i]) + self.b0_coef))**2))\n",
    "        return mse\n",
    " \n",
    "gradientLin = gradientLinReg()\n",
    "gradientLin.gradientFit(normalize(newData['lpsa'].as_matrix().reshape(-1, 1), axis=1, norm='l1'), y, 1, 500)\n",
    "gradientP = gradientLin.gradientPredict(normalize(newTest['lpsa'].as_matrix().reshape(-1, 1), axis=1, norm='l1'))\n",
    "print \"Gradient Linear Regression MSE: \", mean_squared_error(truey, gradientP)\n",
    "    "
   ]
  },
  {
   "cell_type": "markdown",
   "metadata": {},
   "source": [
    "## Question 5 (2+1+5+2 = 10 points)\n",
    "\n",
    "We will use Google's Tensorflow to create a simple multi-layered perceptron. Installation instructions can be found [here](https://www.tensorflow.org/versions/r0.7/get_started/os_setup.html#pip-installation). To make our lives even easier, we will be using [skflow](https://github.com/tensorflow/skflow). This can be installed via pip install skflow. This is a higher level API on top of tensorflow. You can find documentation on how to get started on the skflow page.\n",
    "\n",
    "To install tensorflow, this command should work (did on Mac):\n",
    "\n",
    "sudo pip install --upgrade https://storage.googleapis.com/tensorflow/mac/tensorflow-0.7.0-py2-none-any.whl --ignore-installed\n",
    "\n",
    "1. Use pandas to get spam classification [data](https://archive.ics.uci.edu/ml/datasets/Spambase) from UCI. Don't worry about getting the column names. The last column is a 1 if spam, zero otherwise.\n",
    "2. Split the data into training and testing using test_size=0.33, random_state=42.\n",
    "3. Use a TensorFlowDNNClassifier to classify whether an email is spam and report your testing accuracy. You should use 1 hidden layer with 5 units, 50,000 steps, and a learning rate of .05. What does each parameter do and why does it matter?\n",
    "4. Compare your accuracy to a logistic regression using sklearn. Discuss why one may have performed better than the other. You may also experiment with the architecture of your neural network (i.e. the number of hidden units, the number of nodes, the number of steps, and the learning rate) to see if you can improve your results from part 3."
   ]
  },
  {
   "cell_type": "code",
   "execution_count": null,
   "metadata": {
    "collapsed": false
   },
   "outputs": [],
   "source": [
    "#help I broke everything, sorry\n",
    "from sklearn.cross_validation import train_test_split\n",
    "from sklearn import linear_model, datasets, metrics\n",
    "import skflow\n",
    "\n",
    "#q5 pt1\n",
    "data = pd.read_csv(\"https://archive.ics.uci.edu/ml/machine-learning-databases/spambase/spambase.data\",header=None)\n",
    "# data[57] if 1 is spam, else 0\n",
    "\n",
    "#q5 pt2\n",
    "X = data.values[:,:57]\n",
    "y = data.values[:,57]\n",
    "X_train, X_test, y_train, y_test = train_test_split(X, y, test_size=0.33, random_state=42)\n",
    "\n",
    "#q5 pt3\n",
    "classifier = skflow.TensorFlowDNNClassifier(hidden_units=[5], n_classes=2,steps=50000,learning_rate=0.05)\n",
    "classifier.fit(X_train, y_train)\n",
    "predicted = classifier.predict(X_test)\n",
    "score = metrics.accuracy_score(y_test, predicted)\n",
    "print('Accuracy: {0:f}'.format(score))\n",
    "print \"\"\"n_classes define the number of classes in the target (in this case, spam or not spam). \n",
    "hidden_units is an array that describes the number of parameters per hidden layer (in this\n",
    "case, 5 parameters in the sole hidden layer). steps define the number of steps to run over\n",
    "the data. learning rate, when defined as a constant float, indicates that no decay function \n",
    "was used.\"\"\"\n"
   ]
  },
  {
   "cell_type": "code",
   "execution_count": null,
   "metadata": {
    "collapsed": false
   },
   "outputs": [],
   "source": [
    "#q5 pt 4\n",
    "logreg = linear_model.LogisticRegression()\n",
    "logreg.fit(X_train, y_train)\n",
    "lr_predicted = logreg.predict(X_test)\n",
    "lr_score = metrics.accuracy_score(y_test, lr_predicted)\n",
    "print('Accuracy: {0:f}'.format(lr_score))\n",
    "print \"\"\"In this case, plain old logistic regression massively outperforms deep learning model. This \n",
    "is mostly due to the fact that there are only {} data entries, passed through a single hidden layer\n",
    "in the deep learning model. If several orders of magnitude more training data were provided, and \n",
    "the model complexity deepened through additional layers, the deep learning model would undoubtedly\n",
    "catch up. I would test this hypothesis, but I fear for my dinky laptop, which is now effectively\n",
    "a personal desk warmer.\"\"\".format(len(X))"
   ]
  },
  {
   "cell_type": "markdown",
   "metadata": {},
   "source": [
    "## Question 6 (2+2+3 = 7 points)\n",
    "\n",
    "1. State briefly what you understand by the bias-variance tradeoff.\n",
    "\n",
    "2. For a given model and problem, what happens to these two quantities when the amount of training data available decreases, keeping all other factors remaining the same ( e.g. if 5-fold CV was used to train the original model, the same is used for the smaller dataset)?\n",
    "\n",
    "3. Suppose you want to approximate the pdf of a continuous random variable $X$, that takes on values over the interval (a,b), as follows: Get $N$ i.i.d samples of $X$; bin the interval into $k$ equi-spaced bins, and construct a histogram, which you then normalize so that total area under the histogram is 1. This normalized histogram will be an approximation of the true pdf. Clearly the histogram will change if you repeat this experiment using another $N$ samples; hence you can consider the quality of the solution in term of the 'mean' histogram (bias) and the variations among the histograms (variance).  Qualitatively explain how you would expect the bias-variance tradeoff to be reflected in this situation, as a function of $k$."
   ]
  },
  {
   "cell_type": "markdown",
   "metadata": {},
   "source": [
    "#### Q6 solution\n",
    "\n",
    "1. Bias-variance tradeoff refers to the balancing of bias and variance values when using different models. As models become more complex, bias decreases quadratically and variance increases linearly, but the mean squared error, being a sum of bias<sup>2</sup>, variance, and noise, can only be minimized at a particular level of model complexity.\n",
    "2. Bias remains identical, but variance increases with less data. \n",
    "3. As *k* increases, bias decreases (quadratically) and variance increases (linearly). This is the same as increasing the complexity of the model in the bias-variance complexity graph. "
   ]
  }
 ],
 "metadata": {
  "kernelspec": {
   "display_name": "Python 2",
   "language": "python",
   "name": "python2"
  },
  "language_info": {
   "codemirror_mode": {
    "name": "ipython",
    "version": 2
   },
   "file_extension": ".py",
   "mimetype": "text/x-python",
   "name": "python",
   "nbconvert_exporter": "python",
   "pygments_lexer": "ipython2",
   "version": "2.7.11"
  }
 },
 "nbformat": 4,
 "nbformat_minor": 0
}
